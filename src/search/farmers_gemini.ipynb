{
  "nbformat": 4,
  "nbformat_minor": 0,
  "metadata": {
    "colab": {
      "provenance": [],
      "collapsed_sections": [
        "tDS-zN-0Uk7h",
        "PmdGpjPTknaM",
        "IupxIjl2PPK8",
        "VdRX8Uxe3FWy",
        "2xMKFLnCNxWK"
      ]
    },
    "kernelspec": {
      "name": "python3",
      "display_name": "Python 3"
    },
    "language_info": {
      "name": "python"
    }
  },
  "cells": [
    {
      "cell_type": "markdown",
      "source": [
        "authors: amirimani@, arunpshankar@\n",
        "date: 18/3/2024\n",
        "\n",
        "\n",
        "----"
      ],
      "metadata": {
        "id": "eyvHkV9yWX01"
      }
    },
    {
      "cell_type": "markdown",
      "source": [
        "# Setup and config"
      ],
      "metadata": {
        "id": "gJKfitJ1r56Z"
      }
    },
    {
      "cell_type": "markdown",
      "source": [
        "### Install required libraries\n"
      ],
      "metadata": {
        "id": "m7sIlqYwZ2Tl"
      }
    },
    {
      "cell_type": "code",
      "execution_count": null,
      "metadata": {
        "id": "Hqtq29YwWO7l"
      },
      "outputs": [],
      "source": [
        "! pip3 install --upgrade --user -q google-cloud-aiplatform\n",
        "! pip3 install --upgrade --user -q google-cloud-discoveryengine\n",
        "! pip3 install --upgrade --user -q langchain"
      ]
    },
    {
      "cell_type": "code",
      "source": [
        "!pip freeze | grep google-cloud-discoveryengine"
      ],
      "metadata": {
        "id": "FUpPUXGDspim"
      },
      "execution_count": null,
      "outputs": []
    },
    {
      "cell_type": "code",
      "source": [
        "# Restart kernel after installs so that your environment can access the new packages\n",
        "import IPython\n",
        "import time\n",
        "\n",
        "app = IPython.Application.instance()\n",
        "app.kernel.do_shutdown(True)"
      ],
      "metadata": {
        "id": "KjNoP5JcWg1B"
      },
      "execution_count": null,
      "outputs": []
    },
    {
      "cell_type": "markdown",
      "source": [
        "### Authenticate your notebook environment (Colab only)"
      ],
      "metadata": {
        "id": "kAGmgW6TZ7SU"
      }
    },
    {
      "cell_type": "code",
      "source": [
        "import sys\n",
        "\n",
        "# Additional authentication is required for Google Colab\n",
        "if \"google.colab\" in sys.modules:\n",
        "    # Authenticate user to Google Cloud\n",
        "    from google.colab import auth\n",
        "\n",
        "    auth.authenticate_user()"
      ],
      "metadata": {
        "id": "lBW-2N1SZtuP"
      },
      "execution_count": null,
      "outputs": []
    },
    {
      "cell_type": "code",
      "source": [
        "# Define project information\n",
        "PROJECT_ID = \"amir-genai-bb\"  # @param {type:\"string\"}\n",
        "LOCATION = \"us-central1\"  # @param {type:\"string\"}\n",
        "\n",
        "# Initialize Vertex AI\n",
        "import vertexai\n",
        "\n",
        "vertexai.init(project=PROJECT_ID, location=LOCATION)"
      ],
      "metadata": {
        "id": "6_3zWio7Z-Jh"
      },
      "execution_count": null,
      "outputs": []
    },
    {
      "cell_type": "markdown",
      "source": [
        "# Cloud storage work\n"
      ],
      "metadata": {
        "id": "tDS-zN-0Uk7h"
      }
    },
    {
      "cell_type": "code",
      "source": [
        "from google.cloud import storage"
      ],
      "metadata": {
        "id": "xPaNP9UCUppQ"
      },
      "execution_count": null,
      "outputs": []
    },
    {
      "cell_type": "code",
      "source": [
        "from google.cloud import storage\n",
        "\n",
        "def copy_html_files_between_prefixes(bucket_name, source_prefix, destination_prefix):\n",
        "    \"\"\"Copies all HTML files from one prefix to another in the same bucket.\n",
        "\n",
        "    Args:\n",
        "        bucket_name (str): Name of the Cloud Storage bucket.\n",
        "        source_prefix (str): The prefix to copy files from.\n",
        "        destination_prefix (str): The prefix to copy files to.\n",
        "    \"\"\"\n",
        "\n",
        "    storage_client = storage.Client()\n",
        "    bucket = storage_client.bucket(bucket_name)\n",
        "\n",
        "    # Iterate through blobs with the source prefix\n",
        "    blobs = bucket.list_blobs(prefix=source_prefix)\n",
        "    for blob in blobs:\n",
        "        if blob.name.endswith('.html'):\n",
        "            # Construct the new destination path\n",
        "            new_blob_name = destination_prefix + blob.name[len(source_prefix):]\n",
        "\n",
        "            # Copy the blob\n",
        "            copy_blob = bucket.copy_blob(blob, bucket, new_blob_name)\n",
        "            print(f\"Copied {blob.name} to {new_blob_name}\")\n"
      ],
      "metadata": {
        "id": "YrHbcwKBUwit"
      },
      "execution_count": null,
      "outputs": []
    },
    {
      "cell_type": "code",
      "source": [
        "\n",
        "# Replace with your bucket name and prefixes\n",
        "\n",
        "bucket_name = \"app-454763165029\"\n",
        "source_prefix = \"ingestion/1712146440/\"\n",
        "destination_prefix = \"ingestion/1712146440_html/\"\n",
        "\n",
        "copy_html_files_between_prefixes(bucket_name, source_prefix, destination_prefix)\n"
      ],
      "metadata": {
        "id": "qfWxQoAEWOhG"
      },
      "execution_count": null,
      "outputs": []
    },
    {
      "cell_type": "markdown",
      "source": [
        "# Metadata Processing\n",
        "\n",
        "Check if the values in the the metdadata are standardized.*italicized text*"
      ],
      "metadata": {
        "id": "PmdGpjPTknaM"
      }
    },
    {
      "cell_type": "code",
      "source": [
        "import pandas as pd\n",
        "from tqdm import tqdm\n",
        "from google.cloud import storage"
      ],
      "metadata": {
        "id": "3XRdpM5TkzMQ"
      },
      "execution_count": null,
      "outputs": []
    },
    {
      "cell_type": "code",
      "source": [
        "def ingest_json_from_gcs(bucket_name, prefix):\n",
        "    \"\"\"\n",
        "    Reads all JSON files within a specified prefix in a GCS bucket,\n",
        "    combines them into a single Pandas DataFrame.\n",
        "\n",
        "    Args:\n",
        "        bucket_name (str): Name of the GCS bucket.\n",
        "        prefix (str): Prefix to filter JSON files (e.g., 'data/').\n",
        "\n",
        "    Returns:\n",
        "        pandas.DataFrame: The combined DataFrame.\n",
        "    \"\"\"\n",
        "\n",
        "    storage_client = storage.Client()\n",
        "    bucket = storage_client.bucket(bucket_name)\n",
        "\n",
        "    blobs = bucket.list_blobs(prefix=prefix)\n",
        "    all_data = []\n",
        "\n",
        "    for blob in blobs:\n",
        "        if blob.name.endswith('.json'):\n",
        "            json_str = blob.download_as_string().decode('utf-8')\n",
        "            json_data = pd.read_json(json_str, lines=True)  # Read line-delimited JSON\n",
        "            all_data.append(json_data)\n",
        "\n",
        "    if all_data:\n",
        "        df = pd.concat(all_data, ignore_index=True)\n",
        "        return df\n",
        "    else:\n",
        "        print('No JSON files found in the specified location.')\n",
        "        return None\n"
      ],
      "metadata": {
        "id": "-6PCcM-kk8FA"
      },
      "execution_count": null,
      "outputs": []
    },
    {
      "cell_type": "code",
      "source": [
        "bucket_name = 'app-454763165029'\n",
        "# prefix = 'ingestion/1710168869/1710168869_datastore_ingest/'\n",
        "prefix = 'ingestion/1712227118/1712227118_datastore_ingest'"
      ],
      "metadata": {
        "id": "tmxV8qiak-is"
      },
      "execution_count": null,
      "outputs": []
    },
    {
      "cell_type": "code",
      "source": [
        "df_meta = ingest_json_from_gcs(bucket_name, prefix)\n",
        "df_meta.shape"
      ],
      "metadata": {
        "id": "PXPutzjqlMRo"
      },
      "execution_count": null,
      "outputs": []
    },
    {
      "cell_type": "code",
      "source": [
        "# expand the dictionary column to individual columns\n",
        "df_meta = pd.json_normalize(df_meta['structData'])"
      ],
      "metadata": {
        "id": "H_7JmQCJlrx7"
      },
      "execution_count": null,
      "outputs": []
    },
    {
      "cell_type": "code",
      "source": [
        "df_meta.columns"
      ],
      "metadata": {
        "id": "z18zKcVtl7ta"
      },
      "execution_count": null,
      "outputs": []
    },
    {
      "cell_type": "code",
      "source": [
        "df_id_map = df_meta[[\"id\", \"article_version_id\"]]\n",
        "# df_id_map.to_csv('./id_map.csv', index=False)"
      ],
      "metadata": {
        "id": "gEnrH0sRc12W"
      },
      "execution_count": null,
      "outputs": []
    },
    {
      "cell_type": "code",
      "source": [
        "all_sates = set(df_meta['state'].explode())\n",
        "assert len(all_sates) == 50"
      ],
      "metadata": {
        "id": "bXrNLCjdmUSs"
      },
      "execution_count": null,
      "outputs": []
    },
    {
      "cell_type": "code",
      "source": [
        "state_abbreviations = [\n",
        "    \"AL\",\n",
        "    \"AK\",\n",
        "    \"AZ\",\n",
        "    \"AR\",\n",
        "    \"CA\",\n",
        "    \"CO\",\n",
        "    \"CT\",\n",
        "    \"DE\",\n",
        "    \"FL\",\n",
        "    \"GA\",\n",
        "    \"HI\",\n",
        "    \"ID\",\n",
        "    \"IL\",\n",
        "    \"IN\",\n",
        "    \"IA\",\n",
        "    \"KS\",\n",
        "    \"KY\",\n",
        "    \"LA\",\n",
        "    \"ME\",\n",
        "    \"MD\",\n",
        "    \"MA\",\n",
        "    \"MI\",\n",
        "    \"MN\",\n",
        "    \"MS\",\n",
        "    \"MO\",\n",
        "    \"MT\",\n",
        "    \"NE\",\n",
        "    \"NV\",\n",
        "    \"NH\",\n",
        "    \"NJ\",\n",
        "    \"NM\",\n",
        "    \"NY\",\n",
        "    \"NC\",\n",
        "    \"ND\",\n",
        "    \"OH\",\n",
        "    \"OK\",\n",
        "    \"OR\",\n",
        "    \"PA\",\n",
        "    \"RI\",\n",
        "    \"SC\",\n",
        "    \"SD\",\n",
        "    \"TN\",\n",
        "    \"TX\",\n",
        "    \"UT\",\n",
        "    \"VT\",\n",
        "    \"VA\",\n",
        "    \"WA\",\n",
        "    \"WV\",\n",
        "    \"WI\",\n",
        "    \"WY\",\n",
        "]\n",
        "\n",
        "[x for x in all_sates if x not in state_abbreviations]"
      ],
      "metadata": {
        "id": "liAug5KJnAmQ"
      },
      "execution_count": null,
      "outputs": []
    },
    {
      "cell_type": "code",
      "source": [
        "all_brands = set(df_meta['brand'].explode())\n",
        "all_brands"
      ],
      "metadata": {
        "id": "lGJt-AYdnwW8"
      },
      "execution_count": null,
      "outputs": []
    },
    {
      "cell_type": "code",
      "source": [
        "\n",
        "# only keep \"bristol west\" documents\n",
        "mask = df_meta['brand'].apply(lambda x: \"Bristol_West\" in x)\n",
        "df_meta_filtered = df_meta[mask]\n",
        "\n",
        "print(df_meta_filtered.shape, df_meta.shape)\n"
      ],
      "metadata": {
        "id": "KSCTxTs9eSvI"
      },
      "execution_count": null,
      "outputs": []
    },
    {
      "cell_type": "code",
      "source": [
        "def copy_filtered_pdfs(row, destination_prefix):\n",
        "  storage_client = storage.Client()\n",
        "\n",
        "\n",
        "  bucket_name = \"app-454763165029\"\n",
        "\n",
        "  bucket = storage_client.bucket(bucket_name)\n",
        "\n",
        "  source_bucket_name, _, source_prefix = row[\"output_ingestion\"].replace('gs://', '').partition('/')\n",
        "  blob_name = row[\"id\"] + '.html'\n",
        "\n",
        "  source_blob = bucket.blob(source_prefix + \"/html/\" + blob_name)\n",
        "  destination_blob_name = destination_prefix + blob_name\n",
        "\n",
        "  # print(source_blob)\n",
        "  bucket.copy_blob(source_blob, bucket, destination_blob_name)"
      ],
      "metadata": {
        "id": "7j9RiKoMemFQ"
      },
      "execution_count": null,
      "outputs": []
    },
    {
      "cell_type": "code",
      "source": [
        "\n",
        "df_meta_filtered[3327:].shape"
      ],
      "metadata": {
        "id": "913vLwR-DtYP"
      },
      "execution_count": null,
      "outputs": []
    },
    {
      "cell_type": "code",
      "source": [
        "# copy filtered files to a new bucket\n",
        "for idx, row in tqdm(df_meta_filtered.iterrows(), total=df_meta_filtered.shape[0]):\n",
        "  copy_filtered_pdfs(row,   destination_prefix = \"bristol_west_html/\")"
      ],
      "metadata": {
        "id": "ZaWlxeX6ekc_"
      },
      "execution_count": null,
      "outputs": []
    },
    {
      "cell_type": "markdown",
      "source": [
        "### Metadata summary:\n",
        "\n",
        "* **state**: make a decision on [\"Could not find value 'All' for column 'states' in translation map.\", nan]\n",
        "* **brand**: make a decision on [\"None, nan]"
      ],
      "metadata": {
        "id": "XFm6pMJYnXcI"
      }
    },
    {
      "cell_type": "markdown",
      "source": [
        "# Get the Answers from VAIS\n",
        "\n"
      ],
      "metadata": {
        "id": "MTB6SY_bmIWd"
      }
    },
    {
      "cell_type": "code",
      "source": [
        "from google.cloud import discoveryengine_v1beta as discoveryengine\n",
        "from google.api_core.client_options import ClientOptions\n",
        "from google.protobuf import json_format\n",
        "from google.cloud import storage\n",
        "\n",
        "\n",
        "import pandas as pd\n",
        "from tqdm import tqdm\n",
        "from typing import Optional, Dict, Any\n",
        "\n",
        "# from IPython.display import Markdown, display"
      ],
      "metadata": {
        "id": "owV3SlYxzHgb"
      },
      "execution_count": null,
      "outputs": []
    },
    {
      "cell_type": "code",
      "source": [
        "# df_test = pd.read_csv(\"./approach-3-fail-cases - approach-3-fail-cases.csv\")\n",
        "# df_test = pd.read_csv(\"./output_21032024.csv\")\n",
        "df_test = pd.read_csv('./Farmers KM Search 14Feb - Sheet1.csv')\n",
        "df_test.head()\n",
        "\n",
        "# Only select \"Bristol_West\" rows\n",
        "df_test = df_test[df_test['brand']==\"Bristol West\"].reset_index(drop=True)\n",
        "df_test[\"brand\"] = \"Bristol_West\"\n",
        "df_test.shape"
      ],
      "metadata": {
        "id": "s8GHi6P_nTqC"
      },
      "execution_count": null,
      "outputs": []
    },
    {
      "cell_type": "code",
      "source": [
        "df_test.head()"
      ],
      "metadata": {
        "id": "lmtDCshUMNxh"
      },
      "execution_count": null,
      "outputs": []
    },
    {
      "cell_type": "code",
      "source": [
        "def search_data_store(search_query: str) -> Optional[discoveryengine.SearchResponse]:\n",
        "    \"\"\"\n",
        "    Search the data store using Google Cloud's Discovery Engine API.\n",
        "\n",
        "    Args:\n",
        "        search_query (str): The search query string.\n",
        "        filter_str (str): Filter string for the query.\n",
        "\n",
        "    Returns:\n",
        "        discoveryengine.SearchResponse: The search response from the Discovery Engine API.\n",
        "    \"\"\"\n",
        "\n",
        "    # config\n",
        "    location = \"us\"\n",
        "    project_id=\"454763165029\"\n",
        "    # engine_id=\"app-data-store\"\n",
        "    engine_id=\"farmers-bw-html_1712268336460\"\n",
        "\n",
        "    n_doc = 10\n",
        "\n",
        "    try:\n",
        "        client_options = (\n",
        "            ClientOptions(api_endpoint=f\"{location}-discoveryengine.googleapis.com\")\n",
        "            if location != \"global\"\n",
        "            else None\n",
        "        )\n",
        "\n",
        "        client = discoveryengine.SearchServiceClient(client_options=client_options)\n",
        "\n",
        "        serving_config = client.serving_config_path(\n",
        "            project=project_id,\n",
        "            location=location,\n",
        "            data_store=engine_id,\n",
        "            serving_config=\"default_config\",\n",
        "        )\n",
        "\n",
        "        content_search_spec = discoveryengine.SearchRequest.ContentSearchSpec(\n",
        "            snippet_spec=discoveryengine.SearchRequest.ContentSearchSpec.SnippetSpec(\n",
        "                return_snippet=True,\n",
        "                max_snippet_count=10\n",
        "            ),\n",
        "            extractive_content_spec=discoveryengine.SearchRequest.ContentSearchSpec.ExtractiveContentSpec(\n",
        "                max_extractive_answer_count=n_doc,\n",
        "                max_extractive_segment_count=n_doc,\n",
        "            ),\n",
        "            summary_spec=discoveryengine.SearchRequest.ContentSearchSpec.SummarySpec(\n",
        "                summary_result_count=10,\n",
        "                include_citations=True,\n",
        "                ignore_adversarial_query=False,\n",
        "                ignore_non_summary_seeking_query=False,\n",
        "                language_code=\"en\",\n",
        "                model_spec=discoveryengine.SearchRequest.ContentSearchSpec.SummarySpec.ModelSpec(\n",
        "                                    version=\"text-bison@002/answer_gen/v1\"\n",
        "                                                ),\n",
        "                # use_semantic_chunks=True\n",
        "\n",
        "            ),\n",
        "\n",
        "        )\n",
        "\n",
        "        request = discoveryengine.SearchRequest(\n",
        "            serving_config=serving_config,\n",
        "            query=search_query,\n",
        "            # filter=filter_str,\n",
        "            page_size=n_doc,\n",
        "            content_search_spec=content_search_spec,\n",
        "            query_expansion_spec=discoveryengine.SearchRequest.QueryExpansionSpec(\n",
        "                condition=discoveryengine.SearchRequest.QueryExpansionSpec.Condition.AUTO,\n",
        "            ),\n",
        "            spell_correction_spec=discoveryengine.SearchRequest.SpellCorrectionSpec(\n",
        "                mode=discoveryengine.SearchRequest.SpellCorrectionSpec.Mode.AUTO\n",
        "            ),\n",
        "        )\n",
        "\n",
        "        response = client.search(request)\n",
        "        return response\n",
        "\n",
        "    except Exception as e:\n",
        "        print(f\"Error during data store search: {e}\")\n",
        "        return None\n",
        "\n",
        "def get_gs_links(search_response):\n",
        "\n",
        "  id_list = []\n",
        "  article_version_id_list = []\n",
        "\n",
        "  for r in search_response.results:\n",
        "    # Convert protocol buffer message to JSON\n",
        "    result_json = json_format.MessageToDict(r.document._pb)\n",
        "    # l.append(result_json['derivedStructData']['link'])\n",
        "\n",
        "    ## for some reason new config doesn't have this\n",
        "    # id_list.append(result_json[\"structData\"]['id'])\n",
        "    # article_version_id_list.append(result_json[\"structData\"][\"article_version_id\"])\n",
        "\n",
        "    id_list.append(result_json['derivedStructData']['link'])\n",
        "  return id_list\n"
      ],
      "metadata": {
        "id": "XHcEbVmWv_X5"
      },
      "execution_count": null,
      "outputs": []
    },
    {
      "cell_type": "markdown",
      "source": [
        "\n",
        "### Check if VAIS returns the right URL in the top 3 answers"
      ],
      "metadata": {
        "id": "c-v9iNVPNOfF"
      }
    },
    {
      "cell_type": "code",
      "source": [
        "def vais_text(search_response):\n",
        "\n",
        "  c = []\n",
        "  for r in search_response.results:\n",
        "    # Convert protocol buffer message to JSON\n",
        "    result_json = json_format.MessageToDict(r.document._pb)\n",
        "    c.append(result_json[\"derivedStructData\"])\n",
        "\n",
        "  return c"
      ],
      "metadata": {
        "id": "RL3vwkNZkmG7"
      },
      "execution_count": null,
      "outputs": []
    },
    {
      "cell_type": "code",
      "source": [
        "\n",
        "all_links = []\n",
        "version_id_list = []\n",
        "extractive_content_list = []\n",
        "summary_list = []\n",
        "\n",
        "for idx, row in tqdm(df_test.iterrows(), total=df_test.shape[0]):\n",
        "\n",
        "  search_query = row[\"question\"]\n",
        "\n",
        "  hits = search_data_store(search_query)\n",
        "  summary_list.append(hits.summary.summary_text)\n",
        "  # pdf_links, version_id = get_gs_links(hits)\n",
        "  pdf_links = get_gs_links(hits)\n",
        "\n",
        "  all_links.append(pdf_links)\n",
        "  # version_id_list.append(version_id)\n",
        "\n",
        "  extractive_content_list.append(vais_text(hits))\n",
        "\n",
        "\n",
        "df_test['VAIS_links_cleaned'] = all_links\n",
        "# df_test['VAIS_version_id'] = version_id_list\n",
        "\n",
        "df_test['vais_ans'] = extractive_content_list"
      ],
      "metadata": {
        "id": "-0H0RvjvOunn"
      },
      "execution_count": null,
      "outputs": []
    },
    {
      "cell_type": "code",
      "source": [
        "df_test[\"vais_summary\"] = summary_list"
      ],
      "metadata": {
        "id": "LGdrPtz_1q8E"
      },
      "execution_count": null,
      "outputs": []
    },
    {
      "cell_type": "code",
      "source": [
        "# this is now required with the html files!!!!!!\n",
        "import os\n",
        "\n",
        "df_map = pd.read_csv('./id_map__280302024.csv')\n",
        "\n",
        "\n",
        "def get_version_id(row, id_map=df_map):\n",
        "  version_id_list = []\n",
        "  for n in row:\n",
        "    basename = os.path.basename(n)\n",
        "    base_name = os.path.splitext(basename)[0]\n",
        "\n",
        "    version_id = df_map['article_version_id'][df_map['id'] == base_name].values[0]\n",
        "    version_id_list.append(version_id)\n",
        "  return version_id_list\n",
        "\n",
        "\n",
        "df_test[\"VAIS_doc_title\"] = df_test[\"VAIS_links_cleaned\"].apply(get_version_id)"
      ],
      "metadata": {
        "id": "mRtvd9i8VhXD"
      },
      "execution_count": null,
      "outputs": []
    },
    {
      "cell_type": "code",
      "source": [
        "df_test.head()"
      ],
      "metadata": {
        "id": "vNPUKbI4WdTN"
      },
      "execution_count": null,
      "outputs": []
    },
    {
      "cell_type": "code",
      "source": [
        "# check if expected ID exists in the top 3 answers from VAIS\n",
        "def check_if_exists(row):\n",
        "    return row['expected_id'] in row['VAIS_doc_title']\n",
        "\n",
        "df_test[\"VAIS_contains_expected\"] = False\n",
        "\n",
        "# Rows where the exptected ID is in top 3 VAIS results\n",
        "idx_contains_retrieval = df_test[df_test.apply(check_if_exists, axis=1)].index\n",
        "df_test.loc[idx_contains_retrieval, \"VAIS_contains_expected\"] = True\n",
        "df_test[df_test[\"VAIS_contains_expected\"]].shape"
      ],
      "metadata": {
        "id": "avx2dhgyCfpz"
      },
      "execution_count": null,
      "outputs": []
    },
    {
      "cell_type": "code",
      "source": [
        "# get top result from VAIS\n",
        "df_test[\"VAIS_top_doc\"] = df_test[\"VAIS_doc_title\"].apply(lambda x: x[0] if x else \"\")\n",
        "\n",
        "idx_correct_retrieval = df_test[df_test[\"VAIS_top_doc\"]==df_test[\"expected_id\"]].index\n",
        "df_test[\"VAIS_equals_expected\"] = False\n",
        "\n",
        "# Rows where expeted ID is the top result from VAIS\n",
        "df_test.loc[idx_correct_retrieval, \"VAIS_equals_expected\"] = True\n",
        "\n",
        "df_test[df_test[\"VAIS_equals_expected\"]].shape"
      ],
      "metadata": {
        "id": "Uikbbnbq7zT_"
      },
      "execution_count": null,
      "outputs": []
    },
    {
      "cell_type": "code",
      "source": [
        "df_test.head()"
      ],
      "metadata": {
        "id": "-9l8QimeRGkH"
      },
      "execution_count": null,
      "outputs": []
    },
    {
      "cell_type": "code",
      "source": [
        "\n",
        "df_test[df_test[\"VAIS_contains_expected\"]].shape"
      ],
      "metadata": {
        "id": "f0gcZCNNb9yY"
      },
      "execution_count": null,
      "outputs": []
    },
    {
      "cell_type": "markdown",
      "source": [
        "# Gary's VAIS\n",
        "\n",
        "https://colab.sandbox.google.com/drive/1JuW-HVKhVw0tjDtylAKXMcC3FYGkbths#scrollTo=cC5Qk37HLe9J"
      ],
      "metadata": {
        "id": "ai1MUC-DmMUG"
      }
    },
    {
      "cell_type": "code",
      "source": [
        "!pip install colabtools"
      ],
      "metadata": {
        "id": "vQYrsCXpmKK5"
      },
      "execution_count": null,
      "outputs": []
    },
    {
      "cell_type": "code",
      "source": [
        "# @title Allow the colab to use your GCP authentication\n",
        "import requests\n",
        "import json\n",
        "import pandas as pd\n",
        "\n",
        "from google.colab import auth\n",
        "from google.auth import default\n",
        "import google.auth.transport.requests\n",
        "auth.authenticate_user()\n",
        "creds, _ = google.auth.default()\n",
        "auth_req = google.auth.transport.requests.Request()\n",
        "import pprint\n",
        "creds.refresh(auth_req)"
      ],
      "metadata": {
        "id": "lM_cx-XBmWjZ"
      },
      "execution_count": null,
      "outputs": []
    },
    {
      "cell_type": "code",
      "source": [
        "!ls"
      ],
      "metadata": {
        "id": "esoYq85ypWF7"
      },
      "execution_count": null,
      "outputs": []
    },
    {
      "cell_type": "code",
      "source": [
        "df = pd.read_csv('Farmers KM Search 14Feb - New 100BW From Gary & Anindo.csv')"
      ],
      "metadata": {
        "id": "awX7TjEhpFvY"
      },
      "execution_count": null,
      "outputs": []
    },
    {
      "cell_type": "code",
      "source": [
        "def get_result(query, engine):\n",
        "\n",
        "  project_id = 'code-401909'\n",
        "  # app-data-store, global-ds-app_1712681008775\n",
        "  # data_store_id = 'app-data-store'\n",
        "  data_store_id = engine\n",
        "  region = 'global'\n",
        "  preamble = ''\n",
        "\n",
        "  model_version = 'gemini-1.0-pro-001/answer_gen/v1' # text-bison@002/answer_gen/v1, gemini-1.0-pro-001/answer_gen/v1\n",
        "  Language = 'en'\n",
        "\n",
        "  api_engine = 'discoveryengine.googleapis.com'\n",
        "  if region == 'us':\n",
        "    api_engine = 'us-discoveryengine.googleapis.com'\n",
        "\n",
        "  resp = requests.post(\n",
        "    f'https://{api_engine}/v1alpha/projects/{project_id}/locations/{region}/collections/default_collection/dataStores/{data_store_id}/servingConfigs/default_search:search',\n",
        "    headers={\n",
        "      'Content-Type': 'application/json',\n",
        "      'Authorization': 'Bearer ' + creds.token,\n",
        "    },\n",
        "    json={\n",
        "      \"servingConfig\": \"projects/{project_id}/locations/{region}/collections/default_collection/dataStores/{data_store_id}/servingConfigs/default_search\",\n",
        "      \"contentSearchSpec\": {\n",
        "        \"snippetSpec\": {\n",
        "          \"max_snippet_count\": 3,\n",
        "        },\n",
        "        \"summarySpec\": {\n",
        "          \"summaryResultCount\": 5,\n",
        "          \"languageCode\":Language,\n",
        "          \"includeCitations\": True,\n",
        "          \"modelSpec\": { \"version\": model_version },\n",
        "          \"modelPromptSpec\":{ \"preamble\": preamble },\n",
        "          \"useSemanticChunks\": True,\n",
        "        },\n",
        "      },\n",
        "      \"query\": query,\n",
        "      \"pageSize\": 10,\n",
        "      # (brand: ANY(\"Bristol_West\")) AND (state: ANY(\"WA\"))\n",
        "      # \"brand: ANY(\\\"Bristol_West\\\")\"\n",
        "      \"filter\": \"brand: ANY(\\\"Bristol_West\\\")\"\n",
        "    },\n",
        "  )\n",
        "\n",
        "\n",
        "  # Output the result\n",
        "  print('Search Resutls')\n",
        "\n",
        "  article_id = []\n",
        "\n",
        "  for i in range(10):\n",
        "    article_id.append(resp.json()['results'][i]['document']['id'])\n",
        "\n",
        "  gen_answer = resp.json()['summary']['summaryText']\n",
        "\n",
        "\n",
        "  return article_id, gen_answer"
      ],
      "metadata": {
        "id": "RMb8XDIWprSe"
      },
      "execution_count": null,
      "outputs": []
    },
    {
      "cell_type": "code",
      "source": [
        "vais_id = []\n",
        "vais_answer =[]\n",
        "\n",
        "\n",
        "engines = [\"global-ds-app_1712681008775\",\n",
        "          #  \"global-ds-app-chunk_1712681551374\"\n",
        "           ]\n",
        "\n",
        "for idx, row in df.head(5).iterrows():\n",
        "\n",
        "  for e in engines:\n",
        "    print(row[\"question\"])\n",
        "    v_id, v_ans = get_result(row[\"question\"], e)\n",
        "    vais_id.append(v_id)\n",
        "    vais_answer.append(v_ans)\n",
        "    print(vais_answer)"
      ],
      "metadata": {
        "id": "l-29AyxuqKhg"
      },
      "execution_count": null,
      "outputs": []
    },
    {
      "cell_type": "markdown",
      "source": [
        "## Comparing Gary's VAIS result to GT"
      ],
      "metadata": {
        "id": "I0yzFAhAk4lW"
      }
    },
    {
      "cell_type": "code",
      "source": [
        "!pip install rouge_score"
      ],
      "metadata": {
        "id": "fV6ftjpimJQK"
      },
      "execution_count": null,
      "outputs": []
    },
    {
      "cell_type": "code",
      "source": [
        "import pandas as pd\n",
        "# from rouge_score import rouge_scorer\n",
        "\n",
        "from vertexai.generative_models import GenerationConfig, GenerativeModel\n"
      ],
      "metadata": {
        "id": "Kx10AViRlCjf"
      },
      "execution_count": null,
      "outputs": []
    },
    {
      "cell_type": "code",
      "source": [
        "df = pd.read_csv('Farmers KM Search 14Feb - [tuned] New 100BW From global-ds-app_1712681008775.csv')\n",
        "df = df.loc[:99]\n",
        "df.head()"
      ],
      "metadata": {
        "colab": {
          "base_uri": "https://localhost:8080/",
          "height": 608
        },
        "id": "heKZM_Rnk_XC",
        "outputId": "ec295bcb-3078-421d-bfb5-a377e9038490"
      },
      "execution_count": null,
      "outputs": [
        {
          "output_type": "execute_result",
          "data": {
            "text/plain": [
              "    Serviced By                                           Question State  \\\n",
              "0  Bristol_West  How do I fix Policy EFT Error Missing required...   NaN   \n",
              "1  Bristol_West  What do I do with the Policy EFT Error, Missin...    CA   \n",
              "2  Bristol_West                  what does posted not charged mean    FL   \n",
              "3  Bristol_West          how much is the NSF charge in Washington?    WA   \n",
              "4  Bristol_West  What do I do if a caller requests the Farmers ...   NaN   \n",
              "\n",
              "   Question\\nWord Count                                   Expected Article  \\\n",
              "0                  10.0  New business quote error \"Policyholder EFT Err...   \n",
              "1                  12.0  New business quote error \"Policyholder EFT Err...   \n",
              "2                   6.0             DE102864 - Payments posted not charged   \n",
              "3                   8.0                            Washington Billing Fees   \n",
              "4                  12.0  How to Handle a Caller's Request for the Farme...   \n",
              "\n",
              "  Expected Article ID                           Expected Article ID Link  \\\n",
              "0  kAD4T000000PC7YWAW  https://storage.mtls.cloud.google.com/app-4547...   \n",
              "1  kAD4T000000PC7YWAW  https://storage.mtls.cloud.google.com/app-4547...   \n",
              "2  kAD4T000000GsLiWAK  https://storage.mtls.cloud.google.com/app-4547...   \n",
              "3  kAD4T000000GpiAWAS  https://storage.mtls.cloud.google.com/app-4547...   \n",
              "4  kAD4T000000GmziWAC  https://storage.mtls.cloud.google.com/app-4547...   \n",
              "\n",
              "                                     Expected Answer  \\\n",
              "0  Launch Rate tab\\n Select No from drop down men...   \n",
              "1  Launch Rate tab\\n Select No from drop down men...   \n",
              "2  Symptom:1,926 policies were impacted by defect...   \n",
              "3                                                25$   \n",
              "4  a caller requests for a copy of the Farmers Do...   \n",
              "\n",
              "                                            question  \\\n",
              "0  How do I fix Policy EFT Error Missing required...   \n",
              "1  What do I do with the Policy EFT Error, Missin...   \n",
              "2                  what does posted not charged mean   \n",
              "3          how much is the NSF charge in Washington?   \n",
              "4  What do I do if a caller requests the Farmers ...   \n",
              "\n",
              "                                      GCP search_ids  Found\\nexpected_id_Pos  \\\n",
              "0  kAD4T000000PC7YWAW kAD1L000000TNndWAG kAD1L000...                     NaN   \n",
              "1  kAD4T000000PC7YWAW kAD1L000000fxhbWAA kAD1L000...                     NaN   \n",
              "2  kAD4T000000GsLiWAK kAD4T00000000S0WAI kAD1L000...                     NaN   \n",
              "3  kAD4T000000GpiAWAS kAD1L000000fzksWAA kAD1L000...                     NaN   \n",
              "4  kAD4T000000GmziWAC kAD1L000000g07MWAQ kAD1L000...                     NaN   \n",
              "\n",
              "   Search_Loss_Reason                                        VAIS Answer  \\\n",
              "0                 NaN  If you receive a \"Policyholder EFT Error: Miss...   \n",
              "1                 NaN  If you receive a Policy EFT Error indicating m...   \n",
              "2                 NaN  \"Posted not charged\" means that a payment has ...   \n",
              "3                 NaN  The NSF charge in Washington is $25. This fee ...   \n",
              "4                 NaN  If a caller requests the Farmers DNC Policy, y...   \n",
              "\n",
              "   Answer Correctness  \n",
              "0                 NaN  \n",
              "1                 NaN  \n",
              "2                 NaN  \n",
              "3                 NaN  \n",
              "4                 NaN  "
            ],
            "text/html": [
              "\n",
              "  <div id=\"df-7e0c70e6-c7b2-48df-a6f7-d8f37a186ffc\" class=\"colab-df-container\">\n",
              "    <div>\n",
              "<style scoped>\n",
              "    .dataframe tbody tr th:only-of-type {\n",
              "        vertical-align: middle;\n",
              "    }\n",
              "\n",
              "    .dataframe tbody tr th {\n",
              "        vertical-align: top;\n",
              "    }\n",
              "\n",
              "    .dataframe thead th {\n",
              "        text-align: right;\n",
              "    }\n",
              "</style>\n",
              "<table border=\"1\" class=\"dataframe\">\n",
              "  <thead>\n",
              "    <tr style=\"text-align: right;\">\n",
              "      <th></th>\n",
              "      <th>Serviced By</th>\n",
              "      <th>Question</th>\n",
              "      <th>State</th>\n",
              "      <th>Question\\nWord Count</th>\n",
              "      <th>Expected Article</th>\n",
              "      <th>Expected Article ID</th>\n",
              "      <th>Expected Article ID Link</th>\n",
              "      <th>Expected Answer</th>\n",
              "      <th>question</th>\n",
              "      <th>GCP search_ids</th>\n",
              "      <th>Found\\nexpected_id_Pos</th>\n",
              "      <th>Search_Loss_Reason</th>\n",
              "      <th>VAIS Answer</th>\n",
              "      <th>Answer Correctness</th>\n",
              "    </tr>\n",
              "  </thead>\n",
              "  <tbody>\n",
              "    <tr>\n",
              "      <th>0</th>\n",
              "      <td>Bristol_West</td>\n",
              "      <td>How do I fix Policy EFT Error Missing required...</td>\n",
              "      <td>NaN</td>\n",
              "      <td>10.0</td>\n",
              "      <td>New business quote error \"Policyholder EFT Err...</td>\n",
              "      <td>kAD4T000000PC7YWAW</td>\n",
              "      <td>https://storage.mtls.cloud.google.com/app-4547...</td>\n",
              "      <td>Launch Rate tab\\n Select No from drop down men...</td>\n",
              "      <td>How do I fix Policy EFT Error Missing required...</td>\n",
              "      <td>kAD4T000000PC7YWAW kAD1L000000TNndWAG kAD1L000...</td>\n",
              "      <td>NaN</td>\n",
              "      <td>NaN</td>\n",
              "      <td>If you receive a \"Policyholder EFT Error: Miss...</td>\n",
              "      <td>NaN</td>\n",
              "    </tr>\n",
              "    <tr>\n",
              "      <th>1</th>\n",
              "      <td>Bristol_West</td>\n",
              "      <td>What do I do with the Policy EFT Error, Missin...</td>\n",
              "      <td>CA</td>\n",
              "      <td>12.0</td>\n",
              "      <td>New business quote error \"Policyholder EFT Err...</td>\n",
              "      <td>kAD4T000000PC7YWAW</td>\n",
              "      <td>https://storage.mtls.cloud.google.com/app-4547...</td>\n",
              "      <td>Launch Rate tab\\n Select No from drop down men...</td>\n",
              "      <td>What do I do with the Policy EFT Error, Missin...</td>\n",
              "      <td>kAD4T000000PC7YWAW kAD1L000000fxhbWAA kAD1L000...</td>\n",
              "      <td>NaN</td>\n",
              "      <td>NaN</td>\n",
              "      <td>If you receive a Policy EFT Error indicating m...</td>\n",
              "      <td>NaN</td>\n",
              "    </tr>\n",
              "    <tr>\n",
              "      <th>2</th>\n",
              "      <td>Bristol_West</td>\n",
              "      <td>what does posted not charged mean</td>\n",
              "      <td>FL</td>\n",
              "      <td>6.0</td>\n",
              "      <td>DE102864 - Payments posted not charged</td>\n",
              "      <td>kAD4T000000GsLiWAK</td>\n",
              "      <td>https://storage.mtls.cloud.google.com/app-4547...</td>\n",
              "      <td>Symptom:1,926 policies were impacted by defect...</td>\n",
              "      <td>what does posted not charged mean</td>\n",
              "      <td>kAD4T000000GsLiWAK kAD4T00000000S0WAI kAD1L000...</td>\n",
              "      <td>NaN</td>\n",
              "      <td>NaN</td>\n",
              "      <td>\"Posted not charged\" means that a payment has ...</td>\n",
              "      <td>NaN</td>\n",
              "    </tr>\n",
              "    <tr>\n",
              "      <th>3</th>\n",
              "      <td>Bristol_West</td>\n",
              "      <td>how much is the NSF charge in Washington?</td>\n",
              "      <td>WA</td>\n",
              "      <td>8.0</td>\n",
              "      <td>Washington Billing Fees</td>\n",
              "      <td>kAD4T000000GpiAWAS</td>\n",
              "      <td>https://storage.mtls.cloud.google.com/app-4547...</td>\n",
              "      <td>25$</td>\n",
              "      <td>how much is the NSF charge in Washington?</td>\n",
              "      <td>kAD4T000000GpiAWAS kAD1L000000fzksWAA kAD1L000...</td>\n",
              "      <td>NaN</td>\n",
              "      <td>NaN</td>\n",
              "      <td>The NSF charge in Washington is $25. This fee ...</td>\n",
              "      <td>NaN</td>\n",
              "    </tr>\n",
              "    <tr>\n",
              "      <th>4</th>\n",
              "      <td>Bristol_West</td>\n",
              "      <td>What do I do if a caller requests the Farmers ...</td>\n",
              "      <td>NaN</td>\n",
              "      <td>12.0</td>\n",
              "      <td>How to Handle a Caller's Request for the Farme...</td>\n",
              "      <td>kAD4T000000GmziWAC</td>\n",
              "      <td>https://storage.mtls.cloud.google.com/app-4547...</td>\n",
              "      <td>a caller requests for a copy of the Farmers Do...</td>\n",
              "      <td>What do I do if a caller requests the Farmers ...</td>\n",
              "      <td>kAD4T000000GmziWAC kAD1L000000g07MWAQ kAD1L000...</td>\n",
              "      <td>NaN</td>\n",
              "      <td>NaN</td>\n",
              "      <td>If a caller requests the Farmers DNC Policy, y...</td>\n",
              "      <td>NaN</td>\n",
              "    </tr>\n",
              "  </tbody>\n",
              "</table>\n",
              "</div>\n",
              "    <div class=\"colab-df-buttons\">\n",
              "\n",
              "  <div class=\"colab-df-container\">\n",
              "    <button class=\"colab-df-convert\" onclick=\"convertToInteractive('df-7e0c70e6-c7b2-48df-a6f7-d8f37a186ffc')\"\n",
              "            title=\"Convert this dataframe to an interactive table.\"\n",
              "            style=\"display:none;\">\n",
              "\n",
              "  <svg xmlns=\"http://www.w3.org/2000/svg\" height=\"24px\" viewBox=\"0 -960 960 960\">\n",
              "    <path d=\"M120-120v-720h720v720H120Zm60-500h600v-160H180v160Zm220 220h160v-160H400v160Zm0 220h160v-160H400v160ZM180-400h160v-160H180v160Zm440 0h160v-160H620v160ZM180-180h160v-160H180v160Zm440 0h160v-160H620v160Z\"/>\n",
              "  </svg>\n",
              "    </button>\n",
              "\n",
              "  <style>\n",
              "    .colab-df-container {\n",
              "      display:flex;\n",
              "      gap: 12px;\n",
              "    }\n",
              "\n",
              "    .colab-df-convert {\n",
              "      background-color: #E8F0FE;\n",
              "      border: none;\n",
              "      border-radius: 50%;\n",
              "      cursor: pointer;\n",
              "      display: none;\n",
              "      fill: #1967D2;\n",
              "      height: 32px;\n",
              "      padding: 0 0 0 0;\n",
              "      width: 32px;\n",
              "    }\n",
              "\n",
              "    .colab-df-convert:hover {\n",
              "      background-color: #E2EBFA;\n",
              "      box-shadow: 0px 1px 2px rgba(60, 64, 67, 0.3), 0px 1px 3px 1px rgba(60, 64, 67, 0.15);\n",
              "      fill: #174EA6;\n",
              "    }\n",
              "\n",
              "    .colab-df-buttons div {\n",
              "      margin-bottom: 4px;\n",
              "    }\n",
              "\n",
              "    [theme=dark] .colab-df-convert {\n",
              "      background-color: #3B4455;\n",
              "      fill: #D2E3FC;\n",
              "    }\n",
              "\n",
              "    [theme=dark] .colab-df-convert:hover {\n",
              "      background-color: #434B5C;\n",
              "      box-shadow: 0px 1px 3px 1px rgba(0, 0, 0, 0.15);\n",
              "      filter: drop-shadow(0px 1px 2px rgba(0, 0, 0, 0.3));\n",
              "      fill: #FFFFFF;\n",
              "    }\n",
              "  </style>\n",
              "\n",
              "    <script>\n",
              "      const buttonEl =\n",
              "        document.querySelector('#df-7e0c70e6-c7b2-48df-a6f7-d8f37a186ffc button.colab-df-convert');\n",
              "      buttonEl.style.display =\n",
              "        google.colab.kernel.accessAllowed ? 'block' : 'none';\n",
              "\n",
              "      async function convertToInteractive(key) {\n",
              "        const element = document.querySelector('#df-7e0c70e6-c7b2-48df-a6f7-d8f37a186ffc');\n",
              "        const dataTable =\n",
              "          await google.colab.kernel.invokeFunction('convertToInteractive',\n",
              "                                                    [key], {});\n",
              "        if (!dataTable) return;\n",
              "\n",
              "        const docLinkHtml = 'Like what you see? Visit the ' +\n",
              "          '<a target=\"_blank\" href=https://colab.research.google.com/notebooks/data_table.ipynb>data table notebook</a>'\n",
              "          + ' to learn more about interactive tables.';\n",
              "        element.innerHTML = '';\n",
              "        dataTable['output_type'] = 'display_data';\n",
              "        await google.colab.output.renderOutput(dataTable, element);\n",
              "        const docLink = document.createElement('div');\n",
              "        docLink.innerHTML = docLinkHtml;\n",
              "        element.appendChild(docLink);\n",
              "      }\n",
              "    </script>\n",
              "  </div>\n",
              "\n",
              "\n",
              "<div id=\"df-ca35dc21-6342-4b7f-9f32-ffa8f05eeadf\">\n",
              "  <button class=\"colab-df-quickchart\" onclick=\"quickchart('df-ca35dc21-6342-4b7f-9f32-ffa8f05eeadf')\"\n",
              "            title=\"Suggest charts\"\n",
              "            style=\"display:none;\">\n",
              "\n",
              "<svg xmlns=\"http://www.w3.org/2000/svg\" height=\"24px\"viewBox=\"0 0 24 24\"\n",
              "     width=\"24px\">\n",
              "    <g>\n",
              "        <path d=\"M19 3H5c-1.1 0-2 .9-2 2v14c0 1.1.9 2 2 2h14c1.1 0 2-.9 2-2V5c0-1.1-.9-2-2-2zM9 17H7v-7h2v7zm4 0h-2V7h2v10zm4 0h-2v-4h2v4z\"/>\n",
              "    </g>\n",
              "</svg>\n",
              "  </button>\n",
              "\n",
              "<style>\n",
              "  .colab-df-quickchart {\n",
              "      --bg-color: #E8F0FE;\n",
              "      --fill-color: #1967D2;\n",
              "      --hover-bg-color: #E2EBFA;\n",
              "      --hover-fill-color: #174EA6;\n",
              "      --disabled-fill-color: #AAA;\n",
              "      --disabled-bg-color: #DDD;\n",
              "  }\n",
              "\n",
              "  [theme=dark] .colab-df-quickchart {\n",
              "      --bg-color: #3B4455;\n",
              "      --fill-color: #D2E3FC;\n",
              "      --hover-bg-color: #434B5C;\n",
              "      --hover-fill-color: #FFFFFF;\n",
              "      --disabled-bg-color: #3B4455;\n",
              "      --disabled-fill-color: #666;\n",
              "  }\n",
              "\n",
              "  .colab-df-quickchart {\n",
              "    background-color: var(--bg-color);\n",
              "    border: none;\n",
              "    border-radius: 50%;\n",
              "    cursor: pointer;\n",
              "    display: none;\n",
              "    fill: var(--fill-color);\n",
              "    height: 32px;\n",
              "    padding: 0;\n",
              "    width: 32px;\n",
              "  }\n",
              "\n",
              "  .colab-df-quickchart:hover {\n",
              "    background-color: var(--hover-bg-color);\n",
              "    box-shadow: 0 1px 2px rgba(60, 64, 67, 0.3), 0 1px 3px 1px rgba(60, 64, 67, 0.15);\n",
              "    fill: var(--button-hover-fill-color);\n",
              "  }\n",
              "\n",
              "  .colab-df-quickchart-complete:disabled,\n",
              "  .colab-df-quickchart-complete:disabled:hover {\n",
              "    background-color: var(--disabled-bg-color);\n",
              "    fill: var(--disabled-fill-color);\n",
              "    box-shadow: none;\n",
              "  }\n",
              "\n",
              "  .colab-df-spinner {\n",
              "    border: 2px solid var(--fill-color);\n",
              "    border-color: transparent;\n",
              "    border-bottom-color: var(--fill-color);\n",
              "    animation:\n",
              "      spin 1s steps(1) infinite;\n",
              "  }\n",
              "\n",
              "  @keyframes spin {\n",
              "    0% {\n",
              "      border-color: transparent;\n",
              "      border-bottom-color: var(--fill-color);\n",
              "      border-left-color: var(--fill-color);\n",
              "    }\n",
              "    20% {\n",
              "      border-color: transparent;\n",
              "      border-left-color: var(--fill-color);\n",
              "      border-top-color: var(--fill-color);\n",
              "    }\n",
              "    30% {\n",
              "      border-color: transparent;\n",
              "      border-left-color: var(--fill-color);\n",
              "      border-top-color: var(--fill-color);\n",
              "      border-right-color: var(--fill-color);\n",
              "    }\n",
              "    40% {\n",
              "      border-color: transparent;\n",
              "      border-right-color: var(--fill-color);\n",
              "      border-top-color: var(--fill-color);\n",
              "    }\n",
              "    60% {\n",
              "      border-color: transparent;\n",
              "      border-right-color: var(--fill-color);\n",
              "    }\n",
              "    80% {\n",
              "      border-color: transparent;\n",
              "      border-right-color: var(--fill-color);\n",
              "      border-bottom-color: var(--fill-color);\n",
              "    }\n",
              "    90% {\n",
              "      border-color: transparent;\n",
              "      border-bottom-color: var(--fill-color);\n",
              "    }\n",
              "  }\n",
              "</style>\n",
              "\n",
              "  <script>\n",
              "    async function quickchart(key) {\n",
              "      const quickchartButtonEl =\n",
              "        document.querySelector('#' + key + ' button');\n",
              "      quickchartButtonEl.disabled = true;  // To prevent multiple clicks.\n",
              "      quickchartButtonEl.classList.add('colab-df-spinner');\n",
              "      try {\n",
              "        const charts = await google.colab.kernel.invokeFunction(\n",
              "            'suggestCharts', [key], {});\n",
              "      } catch (error) {\n",
              "        console.error('Error during call to suggestCharts:', error);\n",
              "      }\n",
              "      quickchartButtonEl.classList.remove('colab-df-spinner');\n",
              "      quickchartButtonEl.classList.add('colab-df-quickchart-complete');\n",
              "    }\n",
              "    (() => {\n",
              "      let quickchartButtonEl =\n",
              "        document.querySelector('#df-ca35dc21-6342-4b7f-9f32-ffa8f05eeadf button');\n",
              "      quickchartButtonEl.style.display =\n",
              "        google.colab.kernel.accessAllowed ? 'block' : 'none';\n",
              "    })();\n",
              "  </script>\n",
              "</div>\n",
              "\n",
              "    </div>\n",
              "  </div>\n"
            ],
            "application/vnd.google.colaboratory.intrinsic+json": {
              "type": "dataframe",
              "variable_name": "df",
              "summary": "{\n  \"name\": \"df\",\n  \"rows\": 100,\n  \"fields\": [\n    {\n      \"column\": \"Serviced By\",\n      \"properties\": {\n        \"dtype\": \"category\",\n        \"num_unique_values\": 1,\n        \"samples\": [\n          \"Bristol_West\"\n        ],\n        \"semantic_type\": \"\",\n        \"description\": \"\"\n      }\n    },\n    {\n      \"column\": \"Question\",\n      \"properties\": {\n        \"dtype\": \"string\",\n        \"num_unique_values\": 92,\n        \"samples\": [\n          \"what is my policy balance\"\n        ],\n        \"semantic_type\": \"\",\n        \"description\": \"\"\n      }\n    },\n    {\n      \"column\": \"State\",\n      \"properties\": {\n        \"dtype\": \"category\",\n        \"num_unique_values\": 16,\n        \"samples\": [\n          \"CA\"\n        ],\n        \"semantic_type\": \"\",\n        \"description\": \"\"\n      }\n    },\n    {\n      \"column\": \"Question\\nWord Count\",\n      \"properties\": {\n        \"dtype\": \"number\",\n        \"std\": 3.616125500637891,\n        \"min\": 2.0,\n        \"max\": 20.0,\n        \"num_unique_values\": 17,\n        \"samples\": [\n          10.0\n        ],\n        \"semantic_type\": \"\",\n        \"description\": \"\"\n      }\n    },\n    {\n      \"column\": \"Expected Article\",\n      \"properties\": {\n        \"dtype\": \"string\",\n        \"num_unique_values\": 71,\n        \"samples\": [\n          \"Does Bristol West write policies for out of state SR22s?\"\n        ],\n        \"semantic_type\": \"\",\n        \"description\": \"\"\n      }\n    },\n    {\n      \"column\": \"Expected Article ID\",\n      \"properties\": {\n        \"dtype\": \"string\",\n        \"num_unique_values\": 67,\n        \"samples\": [\n          \"kAD1L000000g0pJWAQ\"\n        ],\n        \"semantic_type\": \"\",\n        \"description\": \"\"\n      }\n    },\n    {\n      \"column\": \"Expected Article ID Link\",\n      \"properties\": {\n        \"dtype\": \"string\",\n        \"num_unique_values\": 66,\n        \"samples\": [\n          \"https://storage.mtls.cloud.google.com/app-454763165029/ingestion/1712146440_html/kAD1L000000fy3MWAQ.html\"\n        ],\n        \"semantic_type\": \"\",\n        \"description\": \"\"\n      }\n    },\n    {\n      \"column\": \"Expected Answer\",\n      \"properties\": {\n        \"dtype\": \"string\",\n        \"num_unique_values\": 80,\n        \"samples\": [\n          \"Cancel fees can be reversed when:\\n Written into Farmers\\u00ac\\u00c6, Bristol West\\u00ac\\u00c6, or Foremost\\u00ac\\u00c6\\n Renewals\\n Flat Cancelled\"\n        ],\n        \"semantic_type\": \"\",\n        \"description\": \"\"\n      }\n    },\n    {\n      \"column\": \"question\",\n      \"properties\": {\n        \"dtype\": \"string\",\n        \"num_unique_values\": 92,\n        \"samples\": [\n          \"what is my policy balance\"\n        ],\n        \"semantic_type\": \"\",\n        \"description\": \"\"\n      }\n    },\n    {\n      \"column\": \"GCP search_ids\",\n      \"properties\": {\n        \"dtype\": \"string\",\n        \"num_unique_values\": 99,\n        \"samples\": [\n          \"kAD1L000000fxktWAA kAD1L000000g0IJWAY kAD4T000000016MWAQ kAD1L000000g3dsWAA kAD1L000000fzeoWAA kAD1L000000fzXwWAI kAD1L000000g04UWAQ kAD1L000000g2fbWAA kAD4T000000XZcBWAW kAD1L000000fxyFWAQ\"\n        ],\n        \"semantic_type\": \"\",\n        \"description\": \"\"\n      }\n    },\n    {\n      \"column\": \"Found\\nexpected_id_Pos\",\n      \"properties\": {\n        \"dtype\": \"number\",\n        \"std\": null,\n        \"min\": null,\n        \"max\": null,\n        \"num_unique_values\": 0,\n        \"samples\": [],\n        \"semantic_type\": \"\",\n        \"description\": \"\"\n      }\n    },\n    {\n      \"column\": \"Search_Loss_Reason\",\n      \"properties\": {\n        \"dtype\": \"number\",\n        \"std\": null,\n        \"min\": null,\n        \"max\": null,\n        \"num_unique_values\": 0,\n        \"samples\": [],\n        \"semantic_type\": \"\",\n        \"description\": \"\"\n      }\n    },\n    {\n      \"column\": \"VAIS Answer\",\n      \"properties\": {\n        \"dtype\": \"string\",\n        \"num_unique_values\": 97,\n        \"samples\": [],\n        \"semantic_type\": \"\",\n        \"description\": \"\"\n      }\n    },\n    {\n      \"column\": \"Answer Correctness\",\n      \"properties\": {\n        \"dtype\": \"number\",\n        \"std\": null,\n        \"min\": null,\n        \"max\": null,\n        \"num_unique_values\": 0,\n        \"samples\": [],\n        \"semantic_type\": \"\",\n        \"description\": \"\"\n      }\n    }\n  ]\n}"
            }
          },
          "metadata": {},
          "execution_count": 7
        }
      ]
    },
    {
      "cell_type": "code",
      "source": [
        "df.tail()"
      ],
      "metadata": {
        "colab": {
          "base_uri": "https://localhost:8080/",
          "height": 643
        },
        "id": "_fzDsVMTnX_9",
        "outputId": "39e74167-b99e-425d-ef4b-e90597993df4"
      },
      "execution_count": null,
      "outputs": [
        {
          "output_type": "execute_result",
          "data": {
            "text/plain": [
              "     Serviced By                                           Question State  \\\n",
              "95  Bristol_West                         Can I clear an SP02 Error?   NaN   \n",
              "96  Bristol_West        Do Michigan benefits qualify for QHC in VA?   NaN   \n",
              "97  Bristol_West    Is Advanced Purchase Discount available in MX ?   NaN   \n",
              "98  Bristol_West  Is Agent 0498746 restricted from writing Highe...   NaN   \n",
              "99  Bristol_West      What is the mid term cancellation fee in TX ?   NaN   \n",
              "\n",
              "    Question\\nWord Count             Expected Article Expected Article ID  \\\n",
              "95                   6.0  How can I clear SP02 Error?                 NaN   \n",
              "96                   8.0                          NaN                 NaN   \n",
              "97                   8.0                          NaN                 NaN   \n",
              "98                   8.0                          NaN                 NaN   \n",
              "99                  10.0                          NaN                 NaN   \n",
              "\n",
              "   Expected Article ID Link  \\\n",
              "95                      NaN   \n",
              "96                      NaN   \n",
              "97                      NaN   \n",
              "98                      NaN   \n",
              "99                      NaN   \n",
              "\n",
              "                                      Expected Answer  \\\n",
              "95                    Yes- Submit a QC defect Request   \n",
              "96  No Article found with this topic. Expecting ge...   \n",
              "97  No Article found with this topic. Expecting ge...   \n",
              "98                                          Not Found   \n",
              "99                 There should be no answer to this.   \n",
              "\n",
              "                                             question  \\\n",
              "95                         Can I clear an SP02 Error?   \n",
              "96        Do Michigan benefits qualify for QHC in VA?   \n",
              "97    Is Advanced Purchase Discount available in MX ?   \n",
              "98  Is Agent 0498746 restricted from writing Highe...   \n",
              "99      What is the mid term cancellation fee in TX ?   \n",
              "\n",
              "                                       GCP search_ids  Found\\nexpected_id_Pos  \\\n",
              "95  kAD1L000000fz3gWAA kAD1L000000fxbtWAA kAD1L000...                     NaN   \n",
              "96  kAD1L000000gDNWWA2 kAD4T000000XbUNWA0 kAD1L000...                     NaN   \n",
              "97  kAD1L000000PBaOWAW kAD1L000000g2Y7WAI kAD1L000...                     NaN   \n",
              "98  kAD1L00000000FqWAI kAD1L00000000LvWAI kAD1L000...                     NaN   \n",
              "99  kAD1L000000g3PfWAI kAD1L000000g7ENWAY kAD4T000...                     NaN   \n",
              "\n",
              "    Search_Loss_Reason                                        VAIS Answer  \\\n",
              "95                 NaN  I'm sorry, but I cannot answer your question b...   \n",
              "96                 NaN  No, VA benefits do not qualify for QHC in Virg...   \n",
              "97                 NaN  Yes, Advance Purchase Discount is available in...   \n",
              "98                 NaN  This question cannot be answered from the give...   \n",
              "99                 NaN  There is no cancellation fee for mid-term canc...   \n",
              "\n",
              "    Answer Correctness  \n",
              "95                 NaN  \n",
              "96                 NaN  \n",
              "97                 NaN  \n",
              "98                 NaN  \n",
              "99                 NaN  "
            ],
            "text/html": [
              "\n",
              "  <div id=\"df-fcde2dc1-2750-47b1-9b0d-994669fe247e\" class=\"colab-df-container\">\n",
              "    <div>\n",
              "<style scoped>\n",
              "    .dataframe tbody tr th:only-of-type {\n",
              "        vertical-align: middle;\n",
              "    }\n",
              "\n",
              "    .dataframe tbody tr th {\n",
              "        vertical-align: top;\n",
              "    }\n",
              "\n",
              "    .dataframe thead th {\n",
              "        text-align: right;\n",
              "    }\n",
              "</style>\n",
              "<table border=\"1\" class=\"dataframe\">\n",
              "  <thead>\n",
              "    <tr style=\"text-align: right;\">\n",
              "      <th></th>\n",
              "      <th>Serviced By</th>\n",
              "      <th>Question</th>\n",
              "      <th>State</th>\n",
              "      <th>Question\\nWord Count</th>\n",
              "      <th>Expected Article</th>\n",
              "      <th>Expected Article ID</th>\n",
              "      <th>Expected Article ID Link</th>\n",
              "      <th>Expected Answer</th>\n",
              "      <th>question</th>\n",
              "      <th>GCP search_ids</th>\n",
              "      <th>Found\\nexpected_id_Pos</th>\n",
              "      <th>Search_Loss_Reason</th>\n",
              "      <th>VAIS Answer</th>\n",
              "      <th>Answer Correctness</th>\n",
              "    </tr>\n",
              "  </thead>\n",
              "  <tbody>\n",
              "    <tr>\n",
              "      <th>95</th>\n",
              "      <td>Bristol_West</td>\n",
              "      <td>Can I clear an SP02 Error?</td>\n",
              "      <td>NaN</td>\n",
              "      <td>6.0</td>\n",
              "      <td>How can I clear SP02 Error?</td>\n",
              "      <td>NaN</td>\n",
              "      <td>NaN</td>\n",
              "      <td>Yes- Submit a QC defect Request</td>\n",
              "      <td>Can I clear an SP02 Error?</td>\n",
              "      <td>kAD1L000000fz3gWAA kAD1L000000fxbtWAA kAD1L000...</td>\n",
              "      <td>NaN</td>\n",
              "      <td>NaN</td>\n",
              "      <td>I'm sorry, but I cannot answer your question b...</td>\n",
              "      <td>NaN</td>\n",
              "    </tr>\n",
              "    <tr>\n",
              "      <th>96</th>\n",
              "      <td>Bristol_West</td>\n",
              "      <td>Do Michigan benefits qualify for QHC in VA?</td>\n",
              "      <td>NaN</td>\n",
              "      <td>8.0</td>\n",
              "      <td>NaN</td>\n",
              "      <td>NaN</td>\n",
              "      <td>NaN</td>\n",
              "      <td>No Article found with this topic. Expecting ge...</td>\n",
              "      <td>Do Michigan benefits qualify for QHC in VA?</td>\n",
              "      <td>kAD1L000000gDNWWA2 kAD4T000000XbUNWA0 kAD1L000...</td>\n",
              "      <td>NaN</td>\n",
              "      <td>NaN</td>\n",
              "      <td>No, VA benefits do not qualify for QHC in Virg...</td>\n",
              "      <td>NaN</td>\n",
              "    </tr>\n",
              "    <tr>\n",
              "      <th>97</th>\n",
              "      <td>Bristol_West</td>\n",
              "      <td>Is Advanced Purchase Discount available in MX ?</td>\n",
              "      <td>NaN</td>\n",
              "      <td>8.0</td>\n",
              "      <td>NaN</td>\n",
              "      <td>NaN</td>\n",
              "      <td>NaN</td>\n",
              "      <td>No Article found with this topic. Expecting ge...</td>\n",
              "      <td>Is Advanced Purchase Discount available in MX ?</td>\n",
              "      <td>kAD1L000000PBaOWAW kAD1L000000g2Y7WAI kAD1L000...</td>\n",
              "      <td>NaN</td>\n",
              "      <td>NaN</td>\n",
              "      <td>Yes, Advance Purchase Discount is available in...</td>\n",
              "      <td>NaN</td>\n",
              "    </tr>\n",
              "    <tr>\n",
              "      <th>98</th>\n",
              "      <td>Bristol_West</td>\n",
              "      <td>Is Agent 0498746 restricted from writing Highe...</td>\n",
              "      <td>NaN</td>\n",
              "      <td>8.0</td>\n",
              "      <td>NaN</td>\n",
              "      <td>NaN</td>\n",
              "      <td>NaN</td>\n",
              "      <td>Not Found</td>\n",
              "      <td>Is Agent 0498746 restricted from writing Highe...</td>\n",
              "      <td>kAD1L00000000FqWAI kAD1L00000000LvWAI kAD1L000...</td>\n",
              "      <td>NaN</td>\n",
              "      <td>NaN</td>\n",
              "      <td>This question cannot be answered from the give...</td>\n",
              "      <td>NaN</td>\n",
              "    </tr>\n",
              "    <tr>\n",
              "      <th>99</th>\n",
              "      <td>Bristol_West</td>\n",
              "      <td>What is the mid term cancellation fee in TX ?</td>\n",
              "      <td>NaN</td>\n",
              "      <td>10.0</td>\n",
              "      <td>NaN</td>\n",
              "      <td>NaN</td>\n",
              "      <td>NaN</td>\n",
              "      <td>There should be no answer to this.</td>\n",
              "      <td>What is the mid term cancellation fee in TX ?</td>\n",
              "      <td>kAD1L000000g3PfWAI kAD1L000000g7ENWAY kAD4T000...</td>\n",
              "      <td>NaN</td>\n",
              "      <td>NaN</td>\n",
              "      <td>There is no cancellation fee for mid-term canc...</td>\n",
              "      <td>NaN</td>\n",
              "    </tr>\n",
              "  </tbody>\n",
              "</table>\n",
              "</div>\n",
              "    <div class=\"colab-df-buttons\">\n",
              "\n",
              "  <div class=\"colab-df-container\">\n",
              "    <button class=\"colab-df-convert\" onclick=\"convertToInteractive('df-fcde2dc1-2750-47b1-9b0d-994669fe247e')\"\n",
              "            title=\"Convert this dataframe to an interactive table.\"\n",
              "            style=\"display:none;\">\n",
              "\n",
              "  <svg xmlns=\"http://www.w3.org/2000/svg\" height=\"24px\" viewBox=\"0 -960 960 960\">\n",
              "    <path d=\"M120-120v-720h720v720H120Zm60-500h600v-160H180v160Zm220 220h160v-160H400v160Zm0 220h160v-160H400v160ZM180-400h160v-160H180v160Zm440 0h160v-160H620v160ZM180-180h160v-160H180v160Zm440 0h160v-160H620v160Z\"/>\n",
              "  </svg>\n",
              "    </button>\n",
              "\n",
              "  <style>\n",
              "    .colab-df-container {\n",
              "      display:flex;\n",
              "      gap: 12px;\n",
              "    }\n",
              "\n",
              "    .colab-df-convert {\n",
              "      background-color: #E8F0FE;\n",
              "      border: none;\n",
              "      border-radius: 50%;\n",
              "      cursor: pointer;\n",
              "      display: none;\n",
              "      fill: #1967D2;\n",
              "      height: 32px;\n",
              "      padding: 0 0 0 0;\n",
              "      width: 32px;\n",
              "    }\n",
              "\n",
              "    .colab-df-convert:hover {\n",
              "      background-color: #E2EBFA;\n",
              "      box-shadow: 0px 1px 2px rgba(60, 64, 67, 0.3), 0px 1px 3px 1px rgba(60, 64, 67, 0.15);\n",
              "      fill: #174EA6;\n",
              "    }\n",
              "\n",
              "    .colab-df-buttons div {\n",
              "      margin-bottom: 4px;\n",
              "    }\n",
              "\n",
              "    [theme=dark] .colab-df-convert {\n",
              "      background-color: #3B4455;\n",
              "      fill: #D2E3FC;\n",
              "    }\n",
              "\n",
              "    [theme=dark] .colab-df-convert:hover {\n",
              "      background-color: #434B5C;\n",
              "      box-shadow: 0px 1px 3px 1px rgba(0, 0, 0, 0.15);\n",
              "      filter: drop-shadow(0px 1px 2px rgba(0, 0, 0, 0.3));\n",
              "      fill: #FFFFFF;\n",
              "    }\n",
              "  </style>\n",
              "\n",
              "    <script>\n",
              "      const buttonEl =\n",
              "        document.querySelector('#df-fcde2dc1-2750-47b1-9b0d-994669fe247e button.colab-df-convert');\n",
              "      buttonEl.style.display =\n",
              "        google.colab.kernel.accessAllowed ? 'block' : 'none';\n",
              "\n",
              "      async function convertToInteractive(key) {\n",
              "        const element = document.querySelector('#df-fcde2dc1-2750-47b1-9b0d-994669fe247e');\n",
              "        const dataTable =\n",
              "          await google.colab.kernel.invokeFunction('convertToInteractive',\n",
              "                                                    [key], {});\n",
              "        if (!dataTable) return;\n",
              "\n",
              "        const docLinkHtml = 'Like what you see? Visit the ' +\n",
              "          '<a target=\"_blank\" href=https://colab.research.google.com/notebooks/data_table.ipynb>data table notebook</a>'\n",
              "          + ' to learn more about interactive tables.';\n",
              "        element.innerHTML = '';\n",
              "        dataTable['output_type'] = 'display_data';\n",
              "        await google.colab.output.renderOutput(dataTable, element);\n",
              "        const docLink = document.createElement('div');\n",
              "        docLink.innerHTML = docLinkHtml;\n",
              "        element.appendChild(docLink);\n",
              "      }\n",
              "    </script>\n",
              "  </div>\n",
              "\n",
              "\n",
              "<div id=\"df-66c4466f-5c2e-45b0-bcb1-a5d1d1b78ec9\">\n",
              "  <button class=\"colab-df-quickchart\" onclick=\"quickchart('df-66c4466f-5c2e-45b0-bcb1-a5d1d1b78ec9')\"\n",
              "            title=\"Suggest charts\"\n",
              "            style=\"display:none;\">\n",
              "\n",
              "<svg xmlns=\"http://www.w3.org/2000/svg\" height=\"24px\"viewBox=\"0 0 24 24\"\n",
              "     width=\"24px\">\n",
              "    <g>\n",
              "        <path d=\"M19 3H5c-1.1 0-2 .9-2 2v14c0 1.1.9 2 2 2h14c1.1 0 2-.9 2-2V5c0-1.1-.9-2-2-2zM9 17H7v-7h2v7zm4 0h-2V7h2v10zm4 0h-2v-4h2v4z\"/>\n",
              "    </g>\n",
              "</svg>\n",
              "  </button>\n",
              "\n",
              "<style>\n",
              "  .colab-df-quickchart {\n",
              "      --bg-color: #E8F0FE;\n",
              "      --fill-color: #1967D2;\n",
              "      --hover-bg-color: #E2EBFA;\n",
              "      --hover-fill-color: #174EA6;\n",
              "      --disabled-fill-color: #AAA;\n",
              "      --disabled-bg-color: #DDD;\n",
              "  }\n",
              "\n",
              "  [theme=dark] .colab-df-quickchart {\n",
              "      --bg-color: #3B4455;\n",
              "      --fill-color: #D2E3FC;\n",
              "      --hover-bg-color: #434B5C;\n",
              "      --hover-fill-color: #FFFFFF;\n",
              "      --disabled-bg-color: #3B4455;\n",
              "      --disabled-fill-color: #666;\n",
              "  }\n",
              "\n",
              "  .colab-df-quickchart {\n",
              "    background-color: var(--bg-color);\n",
              "    border: none;\n",
              "    border-radius: 50%;\n",
              "    cursor: pointer;\n",
              "    display: none;\n",
              "    fill: var(--fill-color);\n",
              "    height: 32px;\n",
              "    padding: 0;\n",
              "    width: 32px;\n",
              "  }\n",
              "\n",
              "  .colab-df-quickchart:hover {\n",
              "    background-color: var(--hover-bg-color);\n",
              "    box-shadow: 0 1px 2px rgba(60, 64, 67, 0.3), 0 1px 3px 1px rgba(60, 64, 67, 0.15);\n",
              "    fill: var(--button-hover-fill-color);\n",
              "  }\n",
              "\n",
              "  .colab-df-quickchart-complete:disabled,\n",
              "  .colab-df-quickchart-complete:disabled:hover {\n",
              "    background-color: var(--disabled-bg-color);\n",
              "    fill: var(--disabled-fill-color);\n",
              "    box-shadow: none;\n",
              "  }\n",
              "\n",
              "  .colab-df-spinner {\n",
              "    border: 2px solid var(--fill-color);\n",
              "    border-color: transparent;\n",
              "    border-bottom-color: var(--fill-color);\n",
              "    animation:\n",
              "      spin 1s steps(1) infinite;\n",
              "  }\n",
              "\n",
              "  @keyframes spin {\n",
              "    0% {\n",
              "      border-color: transparent;\n",
              "      border-bottom-color: var(--fill-color);\n",
              "      border-left-color: var(--fill-color);\n",
              "    }\n",
              "    20% {\n",
              "      border-color: transparent;\n",
              "      border-left-color: var(--fill-color);\n",
              "      border-top-color: var(--fill-color);\n",
              "    }\n",
              "    30% {\n",
              "      border-color: transparent;\n",
              "      border-left-color: var(--fill-color);\n",
              "      border-top-color: var(--fill-color);\n",
              "      border-right-color: var(--fill-color);\n",
              "    }\n",
              "    40% {\n",
              "      border-color: transparent;\n",
              "      border-right-color: var(--fill-color);\n",
              "      border-top-color: var(--fill-color);\n",
              "    }\n",
              "    60% {\n",
              "      border-color: transparent;\n",
              "      border-right-color: var(--fill-color);\n",
              "    }\n",
              "    80% {\n",
              "      border-color: transparent;\n",
              "      border-right-color: var(--fill-color);\n",
              "      border-bottom-color: var(--fill-color);\n",
              "    }\n",
              "    90% {\n",
              "      border-color: transparent;\n",
              "      border-bottom-color: var(--fill-color);\n",
              "    }\n",
              "  }\n",
              "</style>\n",
              "\n",
              "  <script>\n",
              "    async function quickchart(key) {\n",
              "      const quickchartButtonEl =\n",
              "        document.querySelector('#' + key + ' button');\n",
              "      quickchartButtonEl.disabled = true;  // To prevent multiple clicks.\n",
              "      quickchartButtonEl.classList.add('colab-df-spinner');\n",
              "      try {\n",
              "        const charts = await google.colab.kernel.invokeFunction(\n",
              "            'suggestCharts', [key], {});\n",
              "      } catch (error) {\n",
              "        console.error('Error during call to suggestCharts:', error);\n",
              "      }\n",
              "      quickchartButtonEl.classList.remove('colab-df-spinner');\n",
              "      quickchartButtonEl.classList.add('colab-df-quickchart-complete');\n",
              "    }\n",
              "    (() => {\n",
              "      let quickchartButtonEl =\n",
              "        document.querySelector('#df-66c4466f-5c2e-45b0-bcb1-a5d1d1b78ec9 button');\n",
              "      quickchartButtonEl.style.display =\n",
              "        google.colab.kernel.accessAllowed ? 'block' : 'none';\n",
              "    })();\n",
              "  </script>\n",
              "</div>\n",
              "\n",
              "    </div>\n",
              "  </div>\n"
            ],
            "application/vnd.google.colaboratory.intrinsic+json": {
              "type": "dataframe",
              "repr_error": "0"
            }
          },
          "metadata": {},
          "execution_count": 8
        }
      ]
    },
    {
      "cell_type": "code",
      "source": [
        "\n",
        "df[\"GCP search_ids\"] = df[\"GCP search_ids\"].apply(lambda x: x.split(\" \"))"
      ],
      "metadata": {
        "id": "Z_65N5C8i3xe"
      },
      "execution_count": null,
      "outputs": []
    },
    {
      "cell_type": "code",
      "source": [
        "def find_location(target_e, source_l):\n",
        "  l =  [i for i, e in enumerate(source_l) if e == target_e]\n",
        "  if l:\n",
        "    l = l[0] + 1\n",
        "  else:\n",
        "    l = \"\"\n",
        "  return l\n",
        "\n",
        "df[\"Found\\nexpected_id_Pos\"] = df.apply(lambda x: find_location(x[\"Expected Article ID\"], x[\"GCP search_ids\"]), axis=1)"
      ],
      "metadata": {
        "id": "Siljy_sAjULT"
      },
      "execution_count": null,
      "outputs": []
    },
    {
      "cell_type": "code",
      "source": [
        "\n",
        "df.to_csv('location.csv')"
      ],
      "metadata": {
        "id": "vo10sXMZkZxZ"
      },
      "execution_count": null,
      "outputs": []
    },
    {
      "cell_type": "code",
      "source": [
        "# rouge score\n",
        "\n",
        "scorer = rouge_scorer.RougeScorer([\"rougeL\"], use_stemmer=True)\n",
        "\n",
        "\n",
        "rouge_score = []\n",
        "\n",
        "for idx, row in df.iterrows():\n",
        "  rouge_score.append(scorer.score(row['Expected Answer'], row[\"VAIS Answer\"]))\n"
      ],
      "metadata": {
        "id": "nBkxk_jhmSm8"
      },
      "execution_count": null,
      "outputs": []
    },
    {
      "cell_type": "code",
      "source": [
        "\n",
        "# RAgas\n",
        "\n",
        "df_eval = df[[\"Question\", \"Expected Answer\", \"VAIS Answer\"]]\n",
        "df_eval.columns = ['question', 'ground_truth', 'answer']\n",
        "\n",
        "\n",
        "# dataset = Dataset.from_pandas(df_eval[['question', 'answer', 'ground_truth']])\n",
        "\n",
        "# # load LLM\n",
        "# ragas_llm = VertexAI(model_name=\"text-bison\")\n",
        "# # Load embeddings\n",
        "# ragas_embeddings = VertexAIEmbeddings(model_name=\"textembedding-gecko@001\")"
      ],
      "metadata": {
        "id": "wJxG_J5bnxFz"
      },
      "execution_count": null,
      "outputs": []
    },
    {
      "cell_type": "code",
      "source": [
        "score = evaluate(dataset,\n",
        "                 metrics=[answer_similarity],\n",
        "                 llm=ragas_llm,\n",
        "                 embeddings=ragas_embeddings)\n",
        "\n",
        "\n",
        "df_eval = score.to_pandas()\n",
        "\n",
        "# df_eval.to_csv('eval_ragas.csv')"
      ],
      "metadata": {
        "id": "-agl0WUmn_Ac"
      },
      "execution_count": null,
      "outputs": []
    },
    {
      "cell_type": "code",
      "source": [
        "# Gemini\n",
        "from langchain_core.prompts import PromptTemplate\n",
        "\n",
        "# Instantiation using from_template (recommended)\n",
        "template = \"\"\"\n",
        "You are an experienced customer support agent. Compare the answer given to a customer with the source of truth.\n",
        "\n",
        "-  Take your time to evaluate the quality of the answer. You should read everything first then compare the ansewrs.\n",
        "- If the answer is has all the information from the source of truth, it is a high quality answer. otherwise,  flag any discrepencies and provide your reason and the text of discprencies.\n",
        "- Do not try to make up an answer\n",
        "\n",
        "==============\n",
        "ANSWER:\n",
        "{answer}\n",
        "==============\n",
        "\n",
        "==============\n",
        "SOURCE OF TRUTH:\n",
        "{source}\n",
        "==============\n",
        "\n",
        "Result:\n",
        "\n",
        "\n",
        "\"\"\"\n",
        "\n",
        "prompt = PromptTemplate(template=template, input_variables=[\"answer\", \"source\"])\n",
        "\n",
        "\n",
        "model = GenerativeModel(\"gemini-1.0-pro\")\n",
        "generation_config = GenerationConfig(temperature=0.2)\n",
        "\n"
      ],
      "metadata": {
        "id": "CXSrhkkElSwI"
      },
      "execution_count": null,
      "outputs": []
    },
    {
      "cell_type": "code",
      "source": [
        "gemini_resp = []\n",
        "for idx, row in df_eval.iterrows():\n",
        "  full_prompt = prompt.format(answer=row[\"answer\"], source=row[\"ground_truth\"])\n",
        "\n",
        "  responses = model.generate_content(full_prompt, stream=False)\n",
        "  gemini_resp.append(responses.text)"
      ],
      "metadata": {
        "id": "r6cZFRYYrKEM"
      },
      "execution_count": null,
      "outputs": []
    },
    {
      "cell_type": "code",
      "source": [
        "df_eval[\"gemini\"] = gemini_resp"
      ],
      "metadata": {
        "id": "BXL3WI7lwrkH",
        "colab": {
          "base_uri": "https://localhost:8080/"
        },
        "outputId": "2e89cd11-2166-4e51-def9-dabcc39b68ab"
      },
      "execution_count": null,
      "outputs": [
        {
          "output_type": "stream",
          "name": "stderr",
          "text": [
            "<ipython-input-17-d697670bb43b>:1: SettingWithCopyWarning: \n",
            "A value is trying to be set on a copy of a slice from a DataFrame.\n",
            "Try using .loc[row_indexer,col_indexer] = value instead\n",
            "\n",
            "See the caveats in the documentation: https://pandas.pydata.org/pandas-docs/stable/user_guide/indexing.html#returning-a-view-versus-a-copy\n",
            "  df_eval[\"gemini\"] = gemini_resp\n"
          ]
        }
      ]
    },
    {
      "cell_type": "code",
      "source": [
        "df_eval.to_csv('eval.csv')"
      ],
      "metadata": {
        "id": "nx99xAnzwxXI"
      },
      "execution_count": null,
      "outputs": []
    },
    {
      "cell_type": "code",
      "source": [
        "\n",
        "df_eval"
      ],
      "metadata": {
        "colab": {
          "base_uri": "https://localhost:8080/",
          "height": 493
        },
        "id": "IJV8TZriheSx",
        "outputId": "9c242884-26c7-4bf1-881b-c30f6da383cc"
      },
      "execution_count": null,
      "outputs": [
        {
          "output_type": "execute_result",
          "data": {
            "text/plain": [
              "                                             question  \\\n",
              "0   How do I fix Policy EFT Error Missing required...   \n",
              "1   What do I do with the Policy EFT Error, Missin...   \n",
              "2                   what does posted not charged mean   \n",
              "3           how much is the NSF charge in Washington?   \n",
              "4   What do I do if a caller requests the Farmers ...   \n",
              "..                                                ...   \n",
              "95                         Can I clear an SP02 Error?   \n",
              "96        Do Michigan benefits qualify for QHC in VA?   \n",
              "97    Is Advanced Purchase Discount available in MX ?   \n",
              "98  Is Agent 0498746 restricted from writing Highe...   \n",
              "99      What is the mid term cancellation fee in TX ?   \n",
              "\n",
              "                                         ground_truth  \\\n",
              "0   Launch Rate tab\\n Select No from drop down men...   \n",
              "1   Launch Rate tab\\n Select No from drop down men...   \n",
              "2   Symptom:1,926 policies were impacted by defect...   \n",
              "3                                                 25$   \n",
              "4   a caller requests for a copy of the Farmers Do...   \n",
              "..                                                ...   \n",
              "95                    Yes- Submit a QC defect Request   \n",
              "96  No Article found with this topic. Expecting ge...   \n",
              "97  No Article found with this topic. Expecting ge...   \n",
              "98                                          Not Found   \n",
              "99                 There should be no answer to this.   \n",
              "\n",
              "                                               answer  \\\n",
              "0   If you receive a \"Policyholder EFT Error: Miss...   \n",
              "1   If you receive a Policy EFT Error indicating m...   \n",
              "2   \"Posted not charged\" means that a payment has ...   \n",
              "3   The NSF charge in Washington is $25. This fee ...   \n",
              "4   If a caller requests the Farmers DNC Policy, y...   \n",
              "..                                                ...   \n",
              "95  I'm sorry, but I cannot answer your question b...   \n",
              "96  No, VA benefits do not qualify for QHC in Virg...   \n",
              "97  Yes, Advance Purchase Discount is available in...   \n",
              "98  This question cannot be answered from the give...   \n",
              "99  There is no cancellation fee for mid-term canc...   \n",
              "\n",
              "                                               gemini  \n",
              "0   The answer provided to the customer is high qu...  \n",
              "1   The answer is a high quality answer because it...  \n",
              "2   **Flag for discrepancies.**\\n\\nThe answer prov...  \n",
              "3   The answer is of high quality because it has a...  \n",
              "4   The answer is of high quality. It contains all...  \n",
              "..                                                ...  \n",
              "95  Discrepencies:\\n\\n- The answer states that the...  \n",
              "96  I am unable to evaluate the quality of the ans...  \n",
              "97  The answer provided is not of high quality. Th...  \n",
              "98  The answer provided correctly states that the ...  \n",
              "99  The answer given to the customer is incorrect....  \n",
              "\n",
              "[100 rows x 4 columns]"
            ],
            "text/html": [
              "\n",
              "  <div id=\"df-89f4ba79-e985-43d9-b50a-fee8ee03e160\" class=\"colab-df-container\">\n",
              "    <div>\n",
              "<style scoped>\n",
              "    .dataframe tbody tr th:only-of-type {\n",
              "        vertical-align: middle;\n",
              "    }\n",
              "\n",
              "    .dataframe tbody tr th {\n",
              "        vertical-align: top;\n",
              "    }\n",
              "\n",
              "    .dataframe thead th {\n",
              "        text-align: right;\n",
              "    }\n",
              "</style>\n",
              "<table border=\"1\" class=\"dataframe\">\n",
              "  <thead>\n",
              "    <tr style=\"text-align: right;\">\n",
              "      <th></th>\n",
              "      <th>question</th>\n",
              "      <th>ground_truth</th>\n",
              "      <th>answer</th>\n",
              "      <th>gemini</th>\n",
              "    </tr>\n",
              "  </thead>\n",
              "  <tbody>\n",
              "    <tr>\n",
              "      <th>0</th>\n",
              "      <td>How do I fix Policy EFT Error Missing required...</td>\n",
              "      <td>Launch Rate tab\\n Select No from drop down men...</td>\n",
              "      <td>If you receive a \"Policyholder EFT Error: Miss...</td>\n",
              "      <td>The answer provided to the customer is high qu...</td>\n",
              "    </tr>\n",
              "    <tr>\n",
              "      <th>1</th>\n",
              "      <td>What do I do with the Policy EFT Error, Missin...</td>\n",
              "      <td>Launch Rate tab\\n Select No from drop down men...</td>\n",
              "      <td>If you receive a Policy EFT Error indicating m...</td>\n",
              "      <td>The answer is a high quality answer because it...</td>\n",
              "    </tr>\n",
              "    <tr>\n",
              "      <th>2</th>\n",
              "      <td>what does posted not charged mean</td>\n",
              "      <td>Symptom:1,926 policies were impacted by defect...</td>\n",
              "      <td>\"Posted not charged\" means that a payment has ...</td>\n",
              "      <td>**Flag for discrepancies.**\\n\\nThe answer prov...</td>\n",
              "    </tr>\n",
              "    <tr>\n",
              "      <th>3</th>\n",
              "      <td>how much is the NSF charge in Washington?</td>\n",
              "      <td>25$</td>\n",
              "      <td>The NSF charge in Washington is $25. This fee ...</td>\n",
              "      <td>The answer is of high quality because it has a...</td>\n",
              "    </tr>\n",
              "    <tr>\n",
              "      <th>4</th>\n",
              "      <td>What do I do if a caller requests the Farmers ...</td>\n",
              "      <td>a caller requests for a copy of the Farmers Do...</td>\n",
              "      <td>If a caller requests the Farmers DNC Policy, y...</td>\n",
              "      <td>The answer is of high quality. It contains all...</td>\n",
              "    </tr>\n",
              "    <tr>\n",
              "      <th>...</th>\n",
              "      <td>...</td>\n",
              "      <td>...</td>\n",
              "      <td>...</td>\n",
              "      <td>...</td>\n",
              "    </tr>\n",
              "    <tr>\n",
              "      <th>95</th>\n",
              "      <td>Can I clear an SP02 Error?</td>\n",
              "      <td>Yes- Submit a QC defect Request</td>\n",
              "      <td>I'm sorry, but I cannot answer your question b...</td>\n",
              "      <td>Discrepencies:\\n\\n- The answer states that the...</td>\n",
              "    </tr>\n",
              "    <tr>\n",
              "      <th>96</th>\n",
              "      <td>Do Michigan benefits qualify for QHC in VA?</td>\n",
              "      <td>No Article found with this topic. Expecting ge...</td>\n",
              "      <td>No, VA benefits do not qualify for QHC in Virg...</td>\n",
              "      <td>I am unable to evaluate the quality of the ans...</td>\n",
              "    </tr>\n",
              "    <tr>\n",
              "      <th>97</th>\n",
              "      <td>Is Advanced Purchase Discount available in MX ?</td>\n",
              "      <td>No Article found with this topic. Expecting ge...</td>\n",
              "      <td>Yes, Advance Purchase Discount is available in...</td>\n",
              "      <td>The answer provided is not of high quality. Th...</td>\n",
              "    </tr>\n",
              "    <tr>\n",
              "      <th>98</th>\n",
              "      <td>Is Agent 0498746 restricted from writing Highe...</td>\n",
              "      <td>Not Found</td>\n",
              "      <td>This question cannot be answered from the give...</td>\n",
              "      <td>The answer provided correctly states that the ...</td>\n",
              "    </tr>\n",
              "    <tr>\n",
              "      <th>99</th>\n",
              "      <td>What is the mid term cancellation fee in TX ?</td>\n",
              "      <td>There should be no answer to this.</td>\n",
              "      <td>There is no cancellation fee for mid-term canc...</td>\n",
              "      <td>The answer given to the customer is incorrect....</td>\n",
              "    </tr>\n",
              "  </tbody>\n",
              "</table>\n",
              "<p>100 rows × 4 columns</p>\n",
              "</div>\n",
              "    <div class=\"colab-df-buttons\">\n",
              "\n",
              "  <div class=\"colab-df-container\">\n",
              "    <button class=\"colab-df-convert\" onclick=\"convertToInteractive('df-89f4ba79-e985-43d9-b50a-fee8ee03e160')\"\n",
              "            title=\"Convert this dataframe to an interactive table.\"\n",
              "            style=\"display:none;\">\n",
              "\n",
              "  <svg xmlns=\"http://www.w3.org/2000/svg\" height=\"24px\" viewBox=\"0 -960 960 960\">\n",
              "    <path d=\"M120-120v-720h720v720H120Zm60-500h600v-160H180v160Zm220 220h160v-160H400v160Zm0 220h160v-160H400v160ZM180-400h160v-160H180v160Zm440 0h160v-160H620v160ZM180-180h160v-160H180v160Zm440 0h160v-160H620v160Z\"/>\n",
              "  </svg>\n",
              "    </button>\n",
              "\n",
              "  <style>\n",
              "    .colab-df-container {\n",
              "      display:flex;\n",
              "      gap: 12px;\n",
              "    }\n",
              "\n",
              "    .colab-df-convert {\n",
              "      background-color: #E8F0FE;\n",
              "      border: none;\n",
              "      border-radius: 50%;\n",
              "      cursor: pointer;\n",
              "      display: none;\n",
              "      fill: #1967D2;\n",
              "      height: 32px;\n",
              "      padding: 0 0 0 0;\n",
              "      width: 32px;\n",
              "    }\n",
              "\n",
              "    .colab-df-convert:hover {\n",
              "      background-color: #E2EBFA;\n",
              "      box-shadow: 0px 1px 2px rgba(60, 64, 67, 0.3), 0px 1px 3px 1px rgba(60, 64, 67, 0.15);\n",
              "      fill: #174EA6;\n",
              "    }\n",
              "\n",
              "    .colab-df-buttons div {\n",
              "      margin-bottom: 4px;\n",
              "    }\n",
              "\n",
              "    [theme=dark] .colab-df-convert {\n",
              "      background-color: #3B4455;\n",
              "      fill: #D2E3FC;\n",
              "    }\n",
              "\n",
              "    [theme=dark] .colab-df-convert:hover {\n",
              "      background-color: #434B5C;\n",
              "      box-shadow: 0px 1px 3px 1px rgba(0, 0, 0, 0.15);\n",
              "      filter: drop-shadow(0px 1px 2px rgba(0, 0, 0, 0.3));\n",
              "      fill: #FFFFFF;\n",
              "    }\n",
              "  </style>\n",
              "\n",
              "    <script>\n",
              "      const buttonEl =\n",
              "        document.querySelector('#df-89f4ba79-e985-43d9-b50a-fee8ee03e160 button.colab-df-convert');\n",
              "      buttonEl.style.display =\n",
              "        google.colab.kernel.accessAllowed ? 'block' : 'none';\n",
              "\n",
              "      async function convertToInteractive(key) {\n",
              "        const element = document.querySelector('#df-89f4ba79-e985-43d9-b50a-fee8ee03e160');\n",
              "        const dataTable =\n",
              "          await google.colab.kernel.invokeFunction('convertToInteractive',\n",
              "                                                    [key], {});\n",
              "        if (!dataTable) return;\n",
              "\n",
              "        const docLinkHtml = 'Like what you see? Visit the ' +\n",
              "          '<a target=\"_blank\" href=https://colab.research.google.com/notebooks/data_table.ipynb>data table notebook</a>'\n",
              "          + ' to learn more about interactive tables.';\n",
              "        element.innerHTML = '';\n",
              "        dataTable['output_type'] = 'display_data';\n",
              "        await google.colab.output.renderOutput(dataTable, element);\n",
              "        const docLink = document.createElement('div');\n",
              "        docLink.innerHTML = docLinkHtml;\n",
              "        element.appendChild(docLink);\n",
              "      }\n",
              "    </script>\n",
              "  </div>\n",
              "\n",
              "\n",
              "<div id=\"df-c5d56551-ec66-494c-bcf4-fcc664a010c6\">\n",
              "  <button class=\"colab-df-quickchart\" onclick=\"quickchart('df-c5d56551-ec66-494c-bcf4-fcc664a010c6')\"\n",
              "            title=\"Suggest charts\"\n",
              "            style=\"display:none;\">\n",
              "\n",
              "<svg xmlns=\"http://www.w3.org/2000/svg\" height=\"24px\"viewBox=\"0 0 24 24\"\n",
              "     width=\"24px\">\n",
              "    <g>\n",
              "        <path d=\"M19 3H5c-1.1 0-2 .9-2 2v14c0 1.1.9 2 2 2h14c1.1 0 2-.9 2-2V5c0-1.1-.9-2-2-2zM9 17H7v-7h2v7zm4 0h-2V7h2v10zm4 0h-2v-4h2v4z\"/>\n",
              "    </g>\n",
              "</svg>\n",
              "  </button>\n",
              "\n",
              "<style>\n",
              "  .colab-df-quickchart {\n",
              "      --bg-color: #E8F0FE;\n",
              "      --fill-color: #1967D2;\n",
              "      --hover-bg-color: #E2EBFA;\n",
              "      --hover-fill-color: #174EA6;\n",
              "      --disabled-fill-color: #AAA;\n",
              "      --disabled-bg-color: #DDD;\n",
              "  }\n",
              "\n",
              "  [theme=dark] .colab-df-quickchart {\n",
              "      --bg-color: #3B4455;\n",
              "      --fill-color: #D2E3FC;\n",
              "      --hover-bg-color: #434B5C;\n",
              "      --hover-fill-color: #FFFFFF;\n",
              "      --disabled-bg-color: #3B4455;\n",
              "      --disabled-fill-color: #666;\n",
              "  }\n",
              "\n",
              "  .colab-df-quickchart {\n",
              "    background-color: var(--bg-color);\n",
              "    border: none;\n",
              "    border-radius: 50%;\n",
              "    cursor: pointer;\n",
              "    display: none;\n",
              "    fill: var(--fill-color);\n",
              "    height: 32px;\n",
              "    padding: 0;\n",
              "    width: 32px;\n",
              "  }\n",
              "\n",
              "  .colab-df-quickchart:hover {\n",
              "    background-color: var(--hover-bg-color);\n",
              "    box-shadow: 0 1px 2px rgba(60, 64, 67, 0.3), 0 1px 3px 1px rgba(60, 64, 67, 0.15);\n",
              "    fill: var(--button-hover-fill-color);\n",
              "  }\n",
              "\n",
              "  .colab-df-quickchart-complete:disabled,\n",
              "  .colab-df-quickchart-complete:disabled:hover {\n",
              "    background-color: var(--disabled-bg-color);\n",
              "    fill: var(--disabled-fill-color);\n",
              "    box-shadow: none;\n",
              "  }\n",
              "\n",
              "  .colab-df-spinner {\n",
              "    border: 2px solid var(--fill-color);\n",
              "    border-color: transparent;\n",
              "    border-bottom-color: var(--fill-color);\n",
              "    animation:\n",
              "      spin 1s steps(1) infinite;\n",
              "  }\n",
              "\n",
              "  @keyframes spin {\n",
              "    0% {\n",
              "      border-color: transparent;\n",
              "      border-bottom-color: var(--fill-color);\n",
              "      border-left-color: var(--fill-color);\n",
              "    }\n",
              "    20% {\n",
              "      border-color: transparent;\n",
              "      border-left-color: var(--fill-color);\n",
              "      border-top-color: var(--fill-color);\n",
              "    }\n",
              "    30% {\n",
              "      border-color: transparent;\n",
              "      border-left-color: var(--fill-color);\n",
              "      border-top-color: var(--fill-color);\n",
              "      border-right-color: var(--fill-color);\n",
              "    }\n",
              "    40% {\n",
              "      border-color: transparent;\n",
              "      border-right-color: var(--fill-color);\n",
              "      border-top-color: var(--fill-color);\n",
              "    }\n",
              "    60% {\n",
              "      border-color: transparent;\n",
              "      border-right-color: var(--fill-color);\n",
              "    }\n",
              "    80% {\n",
              "      border-color: transparent;\n",
              "      border-right-color: var(--fill-color);\n",
              "      border-bottom-color: var(--fill-color);\n",
              "    }\n",
              "    90% {\n",
              "      border-color: transparent;\n",
              "      border-bottom-color: var(--fill-color);\n",
              "    }\n",
              "  }\n",
              "</style>\n",
              "\n",
              "  <script>\n",
              "    async function quickchart(key) {\n",
              "      const quickchartButtonEl =\n",
              "        document.querySelector('#' + key + ' button');\n",
              "      quickchartButtonEl.disabled = true;  // To prevent multiple clicks.\n",
              "      quickchartButtonEl.classList.add('colab-df-spinner');\n",
              "      try {\n",
              "        const charts = await google.colab.kernel.invokeFunction(\n",
              "            'suggestCharts', [key], {});\n",
              "      } catch (error) {\n",
              "        console.error('Error during call to suggestCharts:', error);\n",
              "      }\n",
              "      quickchartButtonEl.classList.remove('colab-df-spinner');\n",
              "      quickchartButtonEl.classList.add('colab-df-quickchart-complete');\n",
              "    }\n",
              "    (() => {\n",
              "      let quickchartButtonEl =\n",
              "        document.querySelector('#df-c5d56551-ec66-494c-bcf4-fcc664a010c6 button');\n",
              "      quickchartButtonEl.style.display =\n",
              "        google.colab.kernel.accessAllowed ? 'block' : 'none';\n",
              "    })();\n",
              "  </script>\n",
              "</div>\n",
              "\n",
              "  <div id=\"id_589576dd-dc22-4c52-9b2f-319032dbbb2f\">\n",
              "    <style>\n",
              "      .colab-df-generate {\n",
              "        background-color: #E8F0FE;\n",
              "        border: none;\n",
              "        border-radius: 50%;\n",
              "        cursor: pointer;\n",
              "        display: none;\n",
              "        fill: #1967D2;\n",
              "        height: 32px;\n",
              "        padding: 0 0 0 0;\n",
              "        width: 32px;\n",
              "      }\n",
              "\n",
              "      .colab-df-generate:hover {\n",
              "        background-color: #E2EBFA;\n",
              "        box-shadow: 0px 1px 2px rgba(60, 64, 67, 0.3), 0px 1px 3px 1px rgba(60, 64, 67, 0.15);\n",
              "        fill: #174EA6;\n",
              "      }\n",
              "\n",
              "      [theme=dark] .colab-df-generate {\n",
              "        background-color: #3B4455;\n",
              "        fill: #D2E3FC;\n",
              "      }\n",
              "\n",
              "      [theme=dark] .colab-df-generate:hover {\n",
              "        background-color: #434B5C;\n",
              "        box-shadow: 0px 1px 3px 1px rgba(0, 0, 0, 0.15);\n",
              "        filter: drop-shadow(0px 1px 2px rgba(0, 0, 0, 0.3));\n",
              "        fill: #FFFFFF;\n",
              "      }\n",
              "    </style>\n",
              "    <button class=\"colab-df-generate\" onclick=\"generateWithVariable('df_eval')\"\n",
              "            title=\"Generate code using this dataframe.\"\n",
              "            style=\"display:none;\">\n",
              "\n",
              "  <svg xmlns=\"http://www.w3.org/2000/svg\" height=\"24px\"viewBox=\"0 0 24 24\"\n",
              "       width=\"24px\">\n",
              "    <path d=\"M7,19H8.4L18.45,9,17,7.55,7,17.6ZM5,21V16.75L18.45,3.32a2,2,0,0,1,2.83,0l1.4,1.43a1.91,1.91,0,0,1,.58,1.4,1.91,1.91,0,0,1-.58,1.4L9.25,21ZM18.45,9,17,7.55Zm-12,3A5.31,5.31,0,0,0,4.9,8.1,5.31,5.31,0,0,0,1,6.5,5.31,5.31,0,0,0,4.9,4.9,5.31,5.31,0,0,0,6.5,1,5.31,5.31,0,0,0,8.1,4.9,5.31,5.31,0,0,0,12,6.5,5.46,5.46,0,0,0,6.5,12Z\"/>\n",
              "  </svg>\n",
              "    </button>\n",
              "    <script>\n",
              "      (() => {\n",
              "      const buttonEl =\n",
              "        document.querySelector('#id_589576dd-dc22-4c52-9b2f-319032dbbb2f button.colab-df-generate');\n",
              "      buttonEl.style.display =\n",
              "        google.colab.kernel.accessAllowed ? 'block' : 'none';\n",
              "\n",
              "      buttonEl.onclick = () => {\n",
              "        google.colab.notebook.generateWithVariable('df_eval');\n",
              "      }\n",
              "      })();\n",
              "    </script>\n",
              "  </div>\n",
              "\n",
              "    </div>\n",
              "  </div>\n"
            ],
            "application/vnd.google.colaboratory.intrinsic+json": {
              "type": "dataframe",
              "variable_name": "df_eval",
              "summary": "{\n  \"name\": \"df_eval\",\n  \"rows\": 100,\n  \"fields\": [\n    {\n      \"column\": \"question\",\n      \"properties\": {\n        \"dtype\": \"string\",\n        \"num_unique_values\": 92,\n        \"samples\": [\n          \"what is my policy balance\",\n          \"When to decline the request to update mileage ?\",\n          \"how to update garaginf address\"\n        ],\n        \"semantic_type\": \"\",\n        \"description\": \"\"\n      }\n    },\n    {\n      \"column\": \"ground_truth\",\n      \"properties\": {\n        \"dtype\": \"string\",\n        \"num_unique_values\": 80,\n        \"samples\": [\n          \"Cancel fees can be reversed when:\\n Written into Farmers\\u00ac\\u00c6, Bristol West\\u00ac\\u00c6, or Foremost\\u00ac\\u00c6\\n Renewals\\n Flat Cancelled\",\n          \"Launch Rate tab\\n Select No from drop down menu for \\\"Select EFT for Future Installments\\\"\\n Click Recalculate\\n Select EFT Yes-Debit Card/Checking/Savings from drop down menu for \\\"Select EFT for Future Installments\\\"\\n Click Recalculate\\n Navigate to Application tab to input the payment information\\n Click Save\",\n          \"Please review link to determine what acceptable proof is required for each individual situation here . \\n How to dispute accident that shows clue verified\\n For all other states:\\n What can be submitted to dispute an at fault accident?\"\n        ],\n        \"semantic_type\": \"\",\n        \"description\": \"\"\n      }\n    },\n    {\n      \"column\": \"answer\",\n      \"properties\": {\n        \"dtype\": \"string\",\n        \"num_unique_values\": 97,\n        \"samples\": [\n          \"I apologize, but I cannot provide a response to your query based on the provided sources. The sources do not contain information about credit errors or no connection quotes.\",\n          \"The Master Company Code (MCO) for Kentucky is 28.\",\n          \"I'm sorry, but I cannot answer your question based on the provided sources. These sources do not contain any information about clearing an SP02 Error.\"\n        ],\n        \"semantic_type\": \"\",\n        \"description\": \"\"\n      }\n    },\n    {\n      \"column\": \"gemini\",\n      \"properties\": {\n        \"dtype\": \"string\",\n        \"num_unique_values\": 99,\n        \"samples\": [\n          \"**Discrepancy:** The answer does not contain any of the information from the source of truth.\\n\\n**Reason:** The source of truth states to verify all information is correct. If information is correct attempt to re-order reports at later time.\\n\\nThe answer, however, does not mention any of this. It simply states that the sources do not contain information about credit errors or no connection quotes.\",\n          \"**High Quality Answer**:  The answer given to the customer has all the information from the source of truth and provides a clear and concise explanation why the liability limits cannot be increased.\",\n          \"I am unable to evaluate the quality of the answer provided as there is no source of truth provided to compare it to.\"\n        ],\n        \"semantic_type\": \"\",\n        \"description\": \"\"\n      }\n    }\n  ]\n}"
            }
          },
          "metadata": {},
          "execution_count": 19
        }
      ]
    },
    {
      "cell_type": "markdown",
      "source": [
        "# Error Analysis from VAIS"
      ],
      "metadata": {
        "id": "IupxIjl2PPK8"
      }
    },
    {
      "cell_type": "code",
      "source": [
        "!pip install --upgrade --quiet langchain langchain-google-vertexai\n",
        "!pip3 install --upgrade --user -q ragas"
      ],
      "metadata": {
        "id": "mXz3D5gm6oME"
      },
      "execution_count": null,
      "outputs": []
    },
    {
      "cell_type": "code",
      "source": [
        "import ragas\n",
        "from ragas import evaluate\n",
        "from ragas.metrics import answer_similarity\n",
        "from langchain_google_vertexai import VertexAIEmbeddings, VertexAI\n",
        "\n",
        "from datasets import Dataset\n"
      ],
      "metadata": {
        "id": "8fJr2D1GQZg8"
      },
      "execution_count": null,
      "outputs": []
    },
    {
      "cell_type": "code",
      "source": [
        "# check the results for the `VAIS_equals_expected`\n",
        "\n",
        "# df_exact_matches = df_test[df_test[\"VAIS_equals_expected\"]]\n",
        "df_exact_matches = df\n",
        "print(f\"number of exact matches: {df_exact_matches.shape[0]}\")\n",
        "df_exact_matches = df_exact_matches[[\"question\", \"expected_ans\", \"vais_summary\"]]\n",
        "df_exact_matches.columns = ['question', 'ground_truth', 'answer']\n",
        "df_exact_matches.head()\n"
      ],
      "metadata": {
        "id": "RstsD3F1S-0X"
      },
      "execution_count": null,
      "outputs": []
    },
    {
      "cell_type": "code",
      "source": [
        "dataset = Dataset.from_pandas(df_exact_matches[['question', 'answer', 'ground_truth']])\n",
        "\n",
        "# load LLM\n",
        "ragas_llm = VertexAI(model_name=\"text-bison\")\n",
        "# Load embeddings\n",
        "ragas_embeddings = VertexAIEmbeddings(model_name=\"textembedding-gecko@001\")"
      ],
      "metadata": {
        "id": "nROgsu986YpT"
      },
      "execution_count": null,
      "outputs": []
    },
    {
      "cell_type": "code",
      "source": [
        "score = evaluate(dataset,\n",
        "                 metrics=[answer_similarity],\n",
        "                 llm=ragas_llm,\n",
        "                 embeddings=ragas_embeddings)"
      ],
      "metadata": {
        "id": "8yaTbiQR6YaN"
      },
      "execution_count": null,
      "outputs": []
    },
    {
      "cell_type": "code",
      "source": [
        "df_eval = score.to_pandas()\n",
        "# df_eval = df_eval.drop(columns=[\"__index_level_0__\"])\n",
        "\n",
        "df_eval.index = df_exact_matches.index\n",
        "\n",
        "# df_eval.to_csv('./vais_exact_matches__26032024.csv', index=False)"
      ],
      "metadata": {
        "id": "HnclLNst8DHF"
      },
      "execution_count": null,
      "outputs": []
    },
    {
      "cell_type": "code",
      "source": [
        "df_eval.head()"
      ],
      "metadata": {
        "id": "qosBiQIt9s1g"
      },
      "execution_count": null,
      "outputs": []
    },
    {
      "cell_type": "code",
      "source": [
        "df_test = df_test.merge(df_eval[[\"answer_similarity\"]], left_index=True, right_index=True, how=\"outer\")\n",
        "df_test.shape"
      ],
      "metadata": {
        "id": "qtRK8rrb9WXv"
      },
      "execution_count": null,
      "outputs": []
    },
    {
      "cell_type": "code",
      "source": [
        "df_test.to_csv('./vais_html__04042024.csv', index=False)"
      ],
      "metadata": {
        "id": "BPoePAEv-ApU"
      },
      "execution_count": null,
      "outputs": []
    },
    {
      "cell_type": "code",
      "source": [
        "df_test[df_test[\"answer_similarity\"] > 0.7]"
      ],
      "metadata": {
        "id": "2lP1A4SVY-mA"
      },
      "execution_count": null,
      "outputs": []
    },
    {
      "cell_type": "code",
      "source": [
        "df_no_match = df_test[df_test[\"VAIS_equals_expected\"]==False]\n",
        "df_no_match[df_no_match[\"VAIS_contains_expected\"]]\n"
      ],
      "metadata": {
        "id": "HWXGOqTnV4Yd"
      },
      "execution_count": null,
      "outputs": []
    },
    {
      "cell_type": "markdown",
      "source": [
        "**Summary**\n",
        "\n",
        "- VAIS console doesn't have `filter` -> the result is different from using the SDK\n",
        "- out of 92, 36 rows are related to Bristol Web\n",
        "- 18 out of 36 have the exact same expected ID as the top result from VAIS (column `VAIS_equals_expected`)\n",
        "   - comparing the result from those 18 to expeted_answer (GT), average semantic similarity is ~80%.[link](https://docs.google.com/spreadsheets/d/1QBNPth0xDgSpM4v9hKV4SkbZySpIJ519JI0Jb62h7f4/edit#gid=1171667870)\n",
        "   - I have checked 6 answers that have semantic similarity below 0.8. 3 of them returend no answer at all (issue with VAIS retrieval). Here are the other 3 questions and my response:\n",
        "       - `Is Agent 0470914 restricted from writing Higher Limits?` the answer is correct. VAIS returned a verbose answer while GT is `yes`\n",
        "       - `What agents are restricted from writing higher limits?`answer is partially returned (due to filters) while on the console is correct\n",
        "       - `What Tasks does the Service Assist Program assist with?` VAIS answer is correct more complete\n",
        "  \n",
        "\n",
        "- out of 18 questions without exact VAIS match, only 4 returned a document withhin top 3 results -> makese sense to keep it to only top answer\n"
      ],
      "metadata": {
        "id": "Yth6ej8WMxH8"
      }
    },
    {
      "cell_type": "markdown",
      "source": [
        "# Querying using Gemini + Grounding"
      ],
      "metadata": {
        "id": "VdRX8Uxe3FWy"
      }
    },
    {
      "cell_type": "code",
      "source": [
        "\n",
        "!pwd"
      ],
      "metadata": {
        "id": "AlVJaK0hzdyV"
      },
      "execution_count": null,
      "outputs": []
    },
    {
      "cell_type": "code",
      "source": [
        "# Define project information\n",
        "PROJECT_ID = \"amir-genai-bb\"  # @param {type:\"string\"}\n",
        "LOCATION = \"us-central1\"  # @param {type:\"string\"}"
      ],
      "metadata": {
        "id": "kuuXVW-LD_9K"
      },
      "execution_count": null,
      "outputs": []
    },
    {
      "cell_type": "code",
      "source": [
        "import pandas as pd\n",
        "from tqdm import tqdm\n",
        "\n",
        "# Initialize Vertex AI\n",
        "import vertexai\n",
        "from vertexai.preview.generative_models import GenerativeModel, Tool, grounding\n",
        "\n",
        "from IPython.display import display, Markdown\n",
        "\n",
        "\n",
        "vertexai.init(project=PROJECT_ID, location=LOCATION)"
      ],
      "metadata": {
        "id": "iZNsooTrEZoE"
      },
      "execution_count": null,
      "outputs": []
    },
    {
      "cell_type": "code",
      "source": [
        "model = GenerativeModel(\"gemini-1.5-pro-preview-0215\")\n",
        "# model = GenerativeModel(\"gemini-1.0-pro\")"
      ],
      "metadata": {
        "id": "WnuXfds6ESMG"
      },
      "execution_count": null,
      "outputs": []
    },
    {
      "cell_type": "code",
      "source": [
        "gemini_ans_list = []\n",
        "\n",
        "\n",
        "location = \"us\"\n",
        "project_id=\"454763165029\"\n",
        "engine_id=\"app-data-store\"\n",
        "\n",
        "datastore = f\"projects/{project_id}/locations/{location}/collections/default_collection/dataStores/{engine_id}\"\n",
        "\n",
        "for idx, row in tqdm(df_test.iterrows(), total=df_test.shape[0]):\n",
        "\n",
        "  tool = Tool.from_retrieval(\n",
        "      grounding.Retrieval(grounding.VertexAISearch(datastore=datastore))\n",
        "  )\n",
        "\n",
        "  response = model.generate_content(row[\"question\"], tools=[tool])\n",
        "\n",
        "  gemini_ans_list.append(response.candidates[0])\n"
      ],
      "metadata": {
        "id": "zO9URyRcEmG8"
      },
      "execution_count": null,
      "outputs": []
    },
    {
      "cell_type": "code",
      "source": [
        "gemini_uri_list = []\n",
        "gemini_cs_list = []\n",
        "gemini_text_list = []\n",
        "for r in gemini_ans_list:\n",
        "  grounding_attr = r.to_dict()['grounding_metadata']['grounding_attributions']\n",
        "  if not grounding_attr:\n",
        "    gemini_text = []\n",
        "    gemini_uri = []\n",
        "    gemini_cs = []\n",
        "  else:\n",
        "    try:\n",
        "      gemini_text = r.text\n",
        "    except:\n",
        "      gemini_text = []\n",
        "    gemini_uri = grounding_attr[0]['web']['uri']\n",
        "    gemini_cs = grounding_attr[0]['confidence_score']\n",
        "\n",
        "  gemini_text_list.append(gemini_text)\n",
        "  gemini_cs_list.append(gemini_cs)\n",
        "  gemini_uri_list.append(gemini_uri)"
      ],
      "metadata": {
        "id": "kUw4juZ_jCJz"
      },
      "execution_count": null,
      "outputs": []
    },
    {
      "cell_type": "code",
      "source": [
        "df_test[\"gemini_ans\"] = gemini_text_list\n",
        "df_test[\"gemini_id\"] = gemini_uri_list\n",
        "df_test[\"gemini_cs\"] = gemini_cs_list"
      ],
      "metadata": {
        "id": "o77f5F6pjJFF"
      },
      "execution_count": null,
      "outputs": []
    },
    {
      "cell_type": "code",
      "source": [
        "df_test['gemini_id_cleaned'] = df_test['gemini_id'].apply(lambda x : x.rsplit('/')[-1].rsplit('.pdf')[0] if len(x) > 0 else \"\")"
      ],
      "metadata": {
        "id": "-MCydHz5h293"
      },
      "execution_count": null,
      "outputs": []
    },
    {
      "cell_type": "code",
      "source": [
        "df_test[\"VAIS_equals_gemini\"] = df_test[\"VAIS_links_cleaned_top\"] == df_test[\"gemini_id_cleaned\"]"
      ],
      "metadata": {
        "id": "RPvRX1lT7bKc"
      },
      "execution_count": null,
      "outputs": []
    },
    {
      "cell_type": "code",
      "source": [
        "# display(Markdown(response.candidates[0].text))\n",
        "df_test.head()"
      ],
      "metadata": {
        "id": "EpaPksbg_KsF"
      },
      "execution_count": null,
      "outputs": []
    },
    {
      "cell_type": "code",
      "source": [
        "df_test.to_csv('./output_25032024.csv', index=False)"
      ],
      "metadata": {
        "id": "mH3pxtHN4wBr"
      },
      "execution_count": null,
      "outputs": []
    },
    {
      "cell_type": "markdown",
      "source": [
        "# DIY RAG\n",
        "\n",
        "\n",
        "https://github.com/Arize-ai/LLMTest_NeedleInAHaystack/blob/8e6b92e9a1e9b8b1db9a990a6fe4d4210ea7219d/README.md"
      ],
      "metadata": {
        "id": "2xMKFLnCNxWK"
      }
    },
    {
      "cell_type": "code",
      "source": [],
      "metadata": {
        "id": "EVWg4JkIly2Q"
      },
      "execution_count": null,
      "outputs": []
    },
    {
      "cell_type": "code",
      "source": [],
      "metadata": {
        "id": "3WWCNl8qlv4C"
      },
      "execution_count": null,
      "outputs": []
    },
    {
      "cell_type": "code",
      "source": [
        "!pip install arize-phoenix[evals]"
      ],
      "metadata": {
        "id": "dsa8ee-KjzYP"
      },
      "execution_count": null,
      "outputs": []
    },
    {
      "cell_type": "code",
      "source": [
        "from transformers import T5Tokenizer\n",
        "from phoenix.evals.models.vertex import GeminiModel\n",
        "\n",
        "import vertexai.preview\n",
        "from google.cloud import aiplatform\n"
      ],
      "metadata": {
        "id": "ROU-AH0xjHrh"
      },
      "execution_count": null,
      "outputs": []
    },
    {
      "cell_type": "code",
      "source": [
        "# Define project information\n",
        "PROJECT_ID = \"amir-genai-bb\"  # @param {type:\"string\"}\n",
        "LOCATION = \"us-central1\"  # @param {type:\"string\"}\n",
        "\n",
        "# Initialize Vertex AI\n",
        "import vertexai\n",
        "\n",
        "vertexai.init(project=PROJECT_ID, location=LOCATION)\n",
        "\n",
        "model_name = \"gemini-1.5-pro-preview-0409\""
      ],
      "metadata": {
        "id": "Z0u6xvV1ccK1"
      },
      "execution_count": null,
      "outputs": []
    },
    {
      "cell_type": "code",
      "source": [
        "enc = T5Tokenizer.from_pretrained(\"google-t5/t5-11b\")"
      ],
      "metadata": {
        "id": "3QqFNc4ijcwb"
      },
      "execution_count": null,
      "outputs": []
    },
    {
      "cell_type": "code",
      "source": [
        "GEMINI_TEMPLATE2 = '''\n",
        "    <context>\n",
        "    {context}\n",
        "    </context>\n",
        "    {question} Don't give information outside the document or repeat your findings.\n",
        "    Here is the magic number from the context:\n",
        "\n",
        "    '''\n",
        "    #{question} You are looking for a number from the context. Don't give information outside the document or repeat your findings\n"
      ],
      "metadata": {
        "id": "90zy5HPcjo3b"
      },
      "execution_count": null,
      "outputs": []
    },
    {
      "cell_type": "code",
      "source": [
        "model = GeminiModel(model_name)\n",
        "model"
      ],
      "metadata": {
        "id": "USXU6XbRi00m"
      },
      "execution_count": null,
      "outputs": []
    },
    {
      "cell_type": "code",
      "source": [
        "context_lengths_min = 100\n",
        "context_lengths_max = 110000\n",
        "\n",
        "  def read_context_files(self):\n",
        "      context = \"\"\n",
        "      max_context_length = max(self.context_lengths)\n",
        "\n",
        "      while self.get_context_length_in_tokens(context) < max_context_length:\n",
        "          for file in glob.glob(f\"{self.haystack_dir}/*.txt\"):\n",
        "              with open(file, 'r') as f:\n",
        "                  context += f.read()\n",
        "      return context"
      ],
      "metadata": {
        "id": "nfcsqZawlD9A"
      },
      "execution_count": null,
      "outputs": []
    },
    {
      "cell_type": "code",
      "source": [
        "import pandas as pd"
      ],
      "metadata": {
        "id": "xtBgCIW6thee"
      },
      "execution_count": null,
      "outputs": []
    },
    {
      "cell_type": "code",
      "source": [
        "df = pd.read_csv('Farmers KM Search 14Feb - New Top1 100BW 8th April.csv')"
      ],
      "metadata": {
        "id": "oT3KJLPWtjWs"
      },
      "execution_count": null,
      "outputs": []
    },
    {
      "cell_type": "code",
      "source": [
        "type(df[\"Expected Article ID\"][1])"
      ],
      "metadata": {
        "id": "BlcxN4Amt1Xb"
      },
      "execution_count": null,
      "outputs": []
    },
    {
      "cell_type": "code",
      "source": [
        "def add_html_link(article_id):\n",
        "\n",
        "  if isinstance(article_id, str):\n",
        "    return f\"https://storage.mtls.cloud.google.com/app-454763165029/ingestion/1712146440_html/{article_id}.html\"\n",
        "  else:\n",
        "    return \"\""
      ],
      "metadata": {
        "id": "-MIVBdd7tvwP"
      },
      "execution_count": null,
      "outputs": []
    },
    {
      "cell_type": "code",
      "source": [
        "df[\"Expected Article ID Link\"] = df[\"Expected Article ID\"].apply(add_html_link)"
      ],
      "metadata": {
        "id": "QsvauP-cvZmQ"
      },
      "execution_count": null,
      "outputs": []
    },
    {
      "cell_type": "code",
      "source": [
        "\n",
        "df[\"Expected Article ID Link\"]"
      ],
      "metadata": {
        "id": "GfUHFh2FwyES"
      },
      "execution_count": null,
      "outputs": []
    },
    {
      "cell_type": "code",
      "source": [
        "df.to_csv('link.csv')"
      ],
      "metadata": {
        "id": "bq6la5WJvzbS"
      },
      "execution_count": null,
      "outputs": []
    },
    {
      "cell_type": "code",
      "source": [
        "!pip install validators"
      ],
      "metadata": {
        "id": "x8Lk2lRd1t5s"
      },
      "execution_count": null,
      "outputs": []
    },
    {
      "cell_type": "code",
      "source": [
        "from google.cloud import storage\n",
        "\n",
        "def list_blobs_with_prefix(bucket_name, prefix, delimiter=None):\n",
        "    \"\"\"Lists all the blobs in the bucket that begin with the prefix.\n",
        "\n",
        "    This can be used to list all blobs in a \"folder\", e.g. \"public/\".\n",
        "\n",
        "    Args:\n",
        "        bucket_name: The name of your Cloud Storage bucket.\n",
        "        prefix: The prefix used to filter objects.\n",
        "        delimiter: (Optional) Delimiter to treat as a directory structure.\n",
        "    \"\"\"\n",
        "    storage_client = storage.Client()\n",
        "    bucket = storage_client.bucket(bucket_name)\n",
        "\n",
        "    blobs = bucket.list_blobs(prefix=prefix, delimiter=delimiter)\n",
        "\n",
        "    return [i.name.rsplit('/')[-1].split('.')[0] for i in blobs]\n",
        "\n",
        "# Example usage\n",
        "bucket_name = 'app-454763165029'\n",
        "prefix = 'ingestion/1712146440_html/'\n",
        "all_blobs = list_blobs_with_prefix(bucket_name, prefix)"
      ],
      "metadata": {
        "id": "6wWQu_Iev0-g"
      },
      "execution_count": null,
      "outputs": []
    },
    {
      "cell_type": "code",
      "source": [
        "unique_elements = [item for item in df['Expected Article ID'].to_list() if item not in all_blobs]"
      ],
      "metadata": {
        "id": "_R0RZrOk3E-E"
      },
      "execution_count": null,
      "outputs": []
    },
    {
      "cell_type": "code",
      "source": [
        "\n",
        "unique_elements"
      ],
      "metadata": {
        "id": "3V57JMfS4L1E"
      },
      "execution_count": null,
      "outputs": []
    },
    {
      "cell_type": "code",
      "source": [
        "# df['Expected Article ID'].str.strip()"
      ],
      "metadata": {
        "id": "TrtipLMZ1tI4"
      },
      "execution_count": null,
      "outputs": []
    },
    {
      "cell_type": "code",
      "source": [],
      "metadata": {
        "id": "dvCUbRna11us"
      },
      "execution_count": null,
      "outputs": []
    },
    {
      "cell_type": "code",
      "source": [],
      "metadata": {
        "id": "G3mJ6SC02DLK"
      },
      "execution_count": null,
      "outputs": []
    }
  ]
}